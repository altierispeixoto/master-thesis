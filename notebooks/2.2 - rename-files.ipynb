{
 "cells": [
  {
   "cell_type": "code",
   "execution_count": 16,
   "metadata": {},
   "outputs": [
    {
     "name": "stdout",
     "output_type": "stream",
     "text": [
      "busstops\t  lines   schedules   stopevents-parquet  trip-endpoints\n",
      "event-stop-edges  routes  stopevents  trackingdata\t  trips\n"
     ]
    }
   ],
   "source": [
    "!ls ../../neo4j/spark/"
   ]
  },
  {
   "cell_type": "code",
   "execution_count": 17,
   "metadata": {},
   "outputs": [
    {
     "name": "stdout",
     "output_type": "stream",
     "text": [
      "mv: '../../neo4j/spark/busstops/busstops.csv' and '../../neo4j/spark/busstops/busstops.csv' are the same file\n",
      "../../neo4j/spark/busstops/busstops.csv\n"
     ]
    }
   ],
   "source": [
    "!mv ../../neo4j/spark/busstops/*.csv  ../../neo4j/spark/busstops/busstops.csv\n",
    "!ls ../../neo4j/spark/busstops/*.csv"
   ]
  },
  {
   "cell_type": "code",
   "execution_count": 18,
   "metadata": {},
   "outputs": [
    {
     "name": "stdout",
     "output_type": "stream",
     "text": [
      "mv: '../../neo4j/spark/lines/lines.csv' and '../../neo4j/spark/lines/lines.csv' are the same file\n",
      "../../neo4j/spark/lines/lines.csv\n"
     ]
    }
   ],
   "source": [
    "!mv ../../neo4j/spark/lines/*.csv  ../../neo4j/spark/lines/lines.csv\n",
    "!ls ../../neo4j/spark/lines/*.csv"
   ]
  },
  {
   "cell_type": "code",
   "execution_count": 19,
   "metadata": {},
   "outputs": [
    {
     "name": "stdout",
     "output_type": "stream",
     "text": [
      "../../neo4j/spark/schedules/schedules.csv\n"
     ]
    }
   ],
   "source": [
    "!mv ../../neo4j/spark/schedules/*.csv  ../../neo4j/spark/schedules/schedules.csv\n",
    "!ls ../../neo4j/spark/schedules/*.csv"
   ]
  },
  {
   "cell_type": "code",
   "execution_count": 20,
   "metadata": {},
   "outputs": [
    {
     "name": "stdout",
     "output_type": "stream",
     "text": [
      "../../neo4j/spark/trip-endpoints/trip-endpoints.csv\n"
     ]
    }
   ],
   "source": [
    "!mv ../../neo4j/spark/trip-endpoints/*.csv  ../../neo4j/spark/trip-endpoints/trip-endpoints.csv\n",
    "!ls ../../neo4j/spark/trip-endpoints/*.csv"
   ]
  },
  {
   "cell_type": "code",
   "execution_count": 21,
   "metadata": {},
   "outputs": [
    {
     "name": "stdout",
     "output_type": "stream",
     "text": [
      "mv: '../../neo4j/spark/event-stop-edges/event-stop-edges.csv' and '../../neo4j/spark/event-stop-edges/event-stop-edges.csv' are the same file\n",
      "../../neo4j/spark/event-stop-edges/event-stop-edges.csv\n"
     ]
    }
   ],
   "source": [
    "!mv ../../neo4j/spark/event-stop-edges/*.csv  ../../neo4j/spark/event-stop-edges/event-stop-edges.csv\n",
    "!ls ../../neo4j/spark/event-stop-edges/*.csv"
   ]
  },
  {
   "cell_type": "code",
   "execution_count": 22,
   "metadata": {},
   "outputs": [
    {
     "name": "stdout",
     "output_type": "stream",
     "text": [
      "../../neo4j/spark/routes/routes.csv\n"
     ]
    }
   ],
   "source": [
    "!mv ../../neo4j/spark/routes/*.csv  ../../neo4j/spark/routes/routes.csv\n",
    "!ls ../../neo4j/spark/routes/*.csv"
   ]
  },
  {
   "cell_type": "code",
   "execution_count": 23,
   "metadata": {},
   "outputs": [
    {
     "name": "stdout",
     "output_type": "stream",
     "text": [
      "../../neo4j/spark/stopevents/stopevents.csv\n"
     ]
    }
   ],
   "source": [
    "!mv ../../neo4j/spark/stopevents/*.csv  ../../neo4j/spark/stopevents/stopevents.csv\n",
    "!ls ../../neo4j/spark/stopevents/*.csv"
   ]
  },
  {
   "cell_type": "code",
   "execution_count": 24,
   "metadata": {},
   "outputs": [
    {
     "name": "stdout",
     "output_type": "stream",
     "text": [
      "../../neo4j/spark/trackingdata/trackingdata.csv\n"
     ]
    }
   ],
   "source": [
    "!mv ../../neo4j/spark/trackingdata/*.csv  ../../neo4j/spark/trackingdata/trackingdata.csv\n",
    "!ls ../../neo4j/spark/trackingdata/*.csv"
   ]
  },
  {
   "cell_type": "code",
   "execution_count": 25,
   "metadata": {},
   "outputs": [
    {
     "name": "stdout",
     "output_type": "stream",
     "text": [
      "../../neo4j/spark/trips/trips.csv\n"
     ]
    }
   ],
   "source": [
    "!mv ../../neo4j/spark/trips/*.csv  ../../neo4j/spark/trips/trips.csv\n",
    "!ls ../../neo4j/spark/trips/*.csv"
   ]
  }
 ],
 "metadata": {
  "kernelspec": {
   "display_name": "Python 3",
   "language": "python",
   "name": "python3"
  },
  "language_info": {
   "codemirror_mode": {
    "name": "ipython",
    "version": 3
   },
   "file_extension": ".py",
   "mimetype": "text/x-python",
   "name": "python",
   "nbconvert_exporter": "python",
   "pygments_lexer": "ipython3",
   "version": "3.7.3"
  }
 },
 "nbformat": 4,
 "nbformat_minor": 2
}
