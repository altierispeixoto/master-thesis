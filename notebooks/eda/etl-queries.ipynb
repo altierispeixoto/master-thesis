{
 "cells": [
  {
   "cell_type": "code",
   "execution_count": 1,
   "metadata": {},
   "outputs": [],
   "source": [
    "import pyspark.sql.functions as F\n",
    "from pyspark.sql.types import DoubleType, StringType\n",
    "\n",
    "from pyspark.conf import SparkConf\n",
    "from pyspark.sql import SQLContext\n",
    "import pyspark.sql.functions as F\n",
    "from pyspark import SparkContext"
   ]
  },
  {
   "cell_type": "code",
   "execution_count": 2,
   "metadata": {},
   "outputs": [],
   "source": [
    "conf = SparkConf().setAppName(\"App\")\n",
    "conf = (conf.setMaster('local[*]')\n",
    "                     .set('spark.executor.memory', '4G')\n",
    "                     .set('spark.driver.memory', '2G')\n",
    "                     .set('spark.driver.maxResultSize', '4G')\n",
    "                     .set('spark.sql.autoBroadcastJoinThreshold', '-1')\n",
    "                     .set(\"spark.sql.sources.partitionOverwriteMode\", \"dynamic\")\n",
    "                     )"
   ]
  },
  {
   "cell_type": "code",
   "execution_count": 4,
   "metadata": {},
   "outputs": [],
   "source": [
    "sc = SparkContext.getOrCreate(conf=conf)\n",
    "spark = SQLContext(sc)"
   ]
  },
  {
   "cell_type": "code",
   "execution_count": 37,
   "metadata": {},
   "outputs": [
    {
     "name": "stdout",
     "output_type": "stream",
     "text": [
      "+---------+-------------------+----------+----------+-------+----+-----+---+\n",
      "|line_code|    event_timestamp|  latitude| longitude|vehicle|year|month|day|\n",
      "+---------+-------------------+----------+----------+-------+----+-----+---+\n",
      "|      924|2020-05-02 23:54:36|-25.377316|-49.224275|  BA002|2020|    5|  2|\n",
      "|      924|2020-05-02 23:49:35|-25.377258|-49.224196|  BA002|2020|    5|  2|\n",
      "|      924|2020-05-02 23:34:03|-25.382061|-49.280973|  BA002|2020|    5|  2|\n",
      "|      924|2020-05-02 23:30:01|-25.393715|-49.291526|  BA002|2020|    5|  2|\n",
      "|      924|2020-05-02 22:41:28|-25.387418|-49.282858|  BA002|2020|    5|  2|\n",
      "|      924|2020-05-02 22:13:03|-25.374081|-49.224315|  BA002|2020|    5|  2|\n",
      "|      924|2020-05-02 21:59:25|-25.379141|-49.278911|  BA002|2020|    5|  2|\n",
      "|      924|2020-05-02 21:43:13|-25.385746|-49.321743|  BA002|2020|    5|  2|\n",
      "|      924|2020-05-02 21:13:41|-25.386883| -49.30273|  BA002|2020|    5|  2|\n",
      "|      924|2020-05-02 21:03:57|-25.376771|-49.277033|  BA002|2020|    5|  2|\n",
      "|      924|2020-05-02 21:03:46|-25.375751|-49.275975|  BA002|2020|    5|  2|\n",
      "|      924|2020-05-02 20:58:32| -25.36641|-49.264173|  BA002|2020|    5|  2|\n",
      "|      924|2020-05-02 20:54:10|-25.360506| -49.24702|  BA002|2020|    5|  2|\n",
      "|      924|2020-05-02 20:33:50| -25.36295|-49.243305|  BA002|2020|    5|  2|\n",
      "|      924|2020-05-02 20:32:04|-25.362838| -49.25448|  BA002|2020|    5|  2|\n",
      "|      924|2020-05-02 20:25:13|-25.375393|-49.274548|  BA002|2020|    5|  2|\n",
      "|      924|2020-05-02 20:14:47|-25.385323|-49.303936|  BA002|2020|    5|  2|\n",
      "|      924|2020-05-02 20:05:53|-25.394965| -49.31776|  BA002|2020|    5|  2|\n",
      "|      924|2020-05-02 20:01:48|-25.399786|-49.326495|  BA002|2020|    5|  2|\n",
      "|      924|2020-05-02 19:45:46|-25.398305|-49.315193|  BA002|2020|    5|  2|\n",
      "+---------+-------------------+----------+----------+-------+----+-----+---+\n",
      "only showing top 20 rows\n",
      "\n"
     ]
    }
   ],
   "source": [
    "spark.read.parquet(\"/opt/work/data/trusted/vehicles\").show()"
   ]
  },
  {
   "cell_type": "code",
   "execution_count": 31,
   "metadata": {},
   "outputs": [
    {
     "name": "stdout",
     "output_type": "stream",
     "text": [
      "+----------------+--------------------+---------+-----------+---------+----+-----+---+\n",
      "|service_category|           line_name|line_code|      color|card_only|year|month|day|\n",
      "+----------------+--------------------+---------+-----------+---------+----+-----+---+\n",
      "|     ALIMENTADOR|           V. MARISA|      714|    LARANJA|        F|2020|    5|  1|\n",
      "|    LINHA DIRETA|BARREIRINHA/GUADA...|      256|      PRATA|        N|2020|    5|  1|\n",
      "|    LINHA DIRETA|          CENTENARIO|      305|      PRATA|        N|2020|    5|  1|\n",
      "|     ALIMENTADOR|       S?O FRANCISCO|      511|    LARANJA|        N|2020|    5|  1|\n",
      "|    LINHA DIRETA|BOQUEIR?O / C. CI...|      505|      PRATA|        N|2020|    5|  1|\n",
      "|    CONVENCIONAL|              PORT?O|      671|    AMARELA|        S|2020|    5|  1|\n",
      "|     ALIMENTADOR|      ALTO BOQUEIR?O|      629|    LARANJA|        N|2020|    5|  1|\n",
      "|     ALIMENTADOR| C. BELEM / S. FILHO|      516|    LARANJA|        S|2020|    5|  1|\n",
      "|         TRONCAL|           COTOLENGO|      778|    AMARELA|        N|2020|    5|  1|\n",
      "|     ALIMENTADOR|             MARINGA|      522|    LARANJA|        N|2020|    5|  1|\n",
      "|     ALIMENTADOR|     STA. RITA / CIC|      619|    LARANJA|        N|2020|    5|  1|\n",
      "|     ALIMENTADOR|       BAIRRO NOVO A|      541|    LARANJA|        N|2020|    5|  1|\n",
      "|     ALIMENTADOR|PINHEIRINHO / ZOO...|      688|    LARANJA|        N|2020|    5|  1|\n",
      "|        EXPRESSO|STA. CANDIDA / C....|      203|   VERMELHA|        N|2020|    5|  1|\n",
      "|     MADRUGUEIRO|    MAD. PINHEIRINHO|      608|MADRUGUEIRO|        N|2020|    5|  1|\n",
      "|     ALIMENTADOR|   HAUER / BOQUEIR?O|      513|    LARANJA|        N|2020|    5|  1|\n",
      "|     ALIMENTADOR|            ITATIAIA|      711|    LARANJA|        F|2020|    5|  1|\n",
      "|     ALIMENTADOR| JOSE CULPI / VENEZA|      938|    LARANJA|        S|2020|    5|  1|\n",
      "|     ALIMENTADOR|       BAIRRO NOVO C|      547|    LARANJA|        N|2020|    5|  1|\n",
      "|     ALIMENTADOR|BANESTADO / CALIF...|      231|    LARANJA|        F|2020|    5|  1|\n",
      "+----------------+--------------------+---------+-----------+---------+----+-----+---+\n",
      "only showing top 20 rows\n",
      "\n"
     ]
    }
   ],
   "source": [
    "spark.read.parquet(\"/opt/work/data/trusted/lines\").show()"
   ]
  },
  {
   "cell_type": "code",
   "execution_count": 34,
   "metadata": {},
   "outputs": [
    {
     "name": "stdout",
     "output_type": "stream",
     "text": [
      "+------------+---+---------+----------------+----------------+--------------------+------+--------------------+---------------+----+-----+---+\n",
      "|itinerary_id|seq|line_code|        latitude|       longitude|                name|number|            line_way|           type|year|month|day|\n",
      "+------------+---+---------+----------------+----------------+--------------------+------+--------------------+---------------+----+-----+---+\n",
      "|         482|  6|      011|-25.413472422663|-49.281147930059|R. Dom Alberto Go...|120109|        Anti-horario|Novo mobiliario|2020|    5|  3|\n",
      "|         583|  7|      232|-25.363332146707|-49.228913218922|Rua Nossa Senhora...|120743|             Alianca| Sem demarcac?o|2020|    5|  3|\n",
      "|         586| 18|      236|-25.360828428536|-49.245390314447|Rua Teodoro Makio...|120754|        S?o Benedito|  Chapeu chines|2020|    5|  3|\n",
      "|         683|  9|      461|-25.463595494228|-49.226472408718|Rua Eduardo Coutu...|140571|   Praca Rui Barbosa|  Chapeu chines|2020|    5|  3|\n",
      "|         887| 28|      658|-25.497512051604| -49.34524732942|Estrada Velha do ...|180323|      Terminal Caiua|  Chapeu chines|2020|    5|  3|\n",
      "|         910| 15|      673| -25.46799192961|-49.295588911718|Rua Francisco Fri...|180971|             Formosa|Novo mobiliario|2020|    5|  3|\n",
      "|         917| 25|      681|-25.512501999614|-49.295013381615|Terminal Pinheiri...|105726|Terminal Pinheirinho|     Plataforma|2020|    5|  3|\n",
      "|         952|  3|      718|-25.481587873063|-49.337613482618|Rua Lenira M dos ...|180476|          Porto Belo|  Chapeu chines|2020|    5|  3|\n",
      "|         989| 36|      821| -25.40062683012|-49.330711979797|Terminal Santa Fe...|106017|Terminal Santa Fe...|     Plataforma|2020|    5|  3|\n",
      "|        1749| 22|      387|-25.453615160075|-49.220742801075|Rua Goiania, 405 ...|140948|           Palotinos|  Placa em cano|2020|    5|  3|\n",
      "|        2645|105|      021|-25.415440928516|-49.290074139881|R. Jacarezinho, 1...|190633| Terminal Cap?o Raso|Novo mobiliario|2020|    5|  3|\n",
      "|        2684| 28|      502|-25.475016633746|-49.274071283898|Estac?o Tubo Ante...|108118|Terminal Sitio Ce...|   Estac?o tubo|2020|    5|  3|\n",
      "|        2802|  5|      814|-25.430515466075|-49.329654519014|Marginal Rodovia ...|190003|Atendimento Espec...|       Concreto|2020|    5|  3|\n",
      "|        3545|  3|      825|-25.475835129691| -49.37570247168|Rua Angelo Marque...|180373|Terminal Campo Co...|  Chapeu chines|2020|    5|  3|\n",
      "|        8135|  6|      938|-25.411248508006|-49.325618923849|Rua Jo?o Azolin, ...|190781|              Veneza| Placa em poste|2020|    5|  3|\n",
      "|        1343|  1|      603|-25.436130098449|-49.274241942317|Estac?o Tubo Prac...|108216|Terminal Pinheirinho|   Estac?o tubo|2020|    5|  3|\n",
      "|        8253| 12|      659|-25.631314457419|-49.351996779442|Estrada Delegado ...|170413|Terminal Pinheiri...|          Domus|2020|    5|  3|\n",
      "|         608| 13|      280|-25.399598532517|-49.253348811461|Rua Pedro Fabri, ...|120395|Nossa Sra. de Nazare|Novo mobiliario|2020|    5|  3|\n",
      "|         696| 10|      467|-25.445345724999|-49.249029786533|Av. Comendador Fr...|140534|         Vila Macedo|Novo mobiliario|2020|    5|  3|\n",
      "|        7713| 10|      552|-25.548221156887| -49.25973839633|Rua Tijucas do Su...|160464|Sambaqui - Ultima...|  Placa em cano|2020|    5|  3|\n",
      "+------------+---+---------+----------------+----------------+--------------------+------+--------------------+---------------+----+-----+---+\n",
      "only showing top 20 rows\n",
      "\n"
     ]
    }
   ],
   "source": [
    "spark.read.parquet(\"/opt/work/data/trusted/busstops\").show()"
   ]
  },
  {
   "cell_type": "code",
   "execution_count": 36,
   "metadata": {},
   "outputs": [
    {
     "name": "stdout",
     "output_type": "stream",
     "text": [
      "+---------+--------------------+--------------+-----+---------+-------+----+-----+---+\n",
      "|line_code|           line_name|busstop_number| time|timetable|vehicle|year|month|day|\n",
      "+---------+--------------------+--------------+-----+---------+-------+----+-----+---+\n",
      "|      519|MAD. S. FRANCISCO...|              |01:15|        1|  EA179|2020|    5|  3|\n",
      "|      209|MAD. S. CANDIDA /...|              |02:40|        2|  HN616|2020|    5|  3|\n",
      "|      714|           V. MARISA|        180333|05:50|        1|  JI850|2020|    5|  3|\n",
      "|      374|          HUGO LANGE|        104002|05:54|        1|  BI005|2020|    5|  3|\n",
      "|      629|      ALTO BOQUEIR?O|        160016|06:00|        2|  KA604|2020|    5|  3|\n",
      "|      637|          STA. JOANA|        106115|06:07|        1|  GI004|2020|    5|  3|\n",
      "|      040|     INTERBAIRROS IV|        105316|06:40|        1|  LB601|2020|    5|  3|\n",
      "|      023|INTER 2 (ANTI-HOR...|        109167|07:10|        7|  DL317|2020|    5|  3|\n",
      "|      030|    INTERBAIRROS III|        105907|07:20|        3|  CB601|2020|    5|  3|\n",
      "|      924|STA. FELICIDADE /...|        120032|07:37|        1|  BA027|2020|    5|  3|\n",
      "|      275|F. NORONHA / LARA...|        101163|07:38|        1|  BI880|2020|    5|  3|\n",
      "|      256|BARREIRINHA/GUADA...|        109078|08:08|        3|  BL315|2020|    5|  3|\n",
      "|      213|            S?O JO?O|        130168|08:10|        1|  BN616|2020|    5|  3|\n",
      "|      205|         BARREIRINHA|        104103|08:35|        3|  BC305|2020|    5|  3|\n",
      "|      203|STA.CANDIDA / C. ...|        105901|08:52|        9|  GE720|2020|    5|  3|\n",
      "|      256|BARREIRINHA/GUADA...|        109078|08:59|        3|  BL315|2020|    5|  3|\n",
      "|      625|            GRAMADOS|        104812|09:00|        1|  GI031|2020|    5|  3|\n",
      "|      213|            S?O JO?O|        130168|09:30|        1|  BN616|2020|    5|  3|\n",
      "|      280|   NSA.SRA.DE NAZARE|        101017|10:00|        1|  BI867|2020|    5|  3|\n",
      "|      508|    SITIOCERCADO(AH)|        109111|10:10|        2|       |2020|    5|  3|\n",
      "+---------+--------------------+--------------+-----+---------+-------+----+-----+---+\n",
      "only showing top 20 rows\n",
      "\n"
     ]
    }
   ],
   "source": [
    "spark.read.parquet(\"/opt/work/data/trusted/timetable\").show()"
   ]
  },
  {
   "cell_type": "code",
   "execution_count": null,
   "metadata": {},
   "outputs": [],
   "source": []
  }
 ],
 "metadata": {
  "kernelspec": {
   "display_name": "Python 3",
   "language": "python",
   "name": "python3"
  },
  "language_info": {
   "codemirror_mode": {
    "name": "ipython",
    "version": 3
   },
   "file_extension": ".py",
   "mimetype": "text/x-python",
   "name": "python",
   "nbconvert_exporter": "python",
   "pygments_lexer": "ipython3",
   "version": "3.8.4"
  }
 },
 "nbformat": 4,
 "nbformat_minor": 4
}
