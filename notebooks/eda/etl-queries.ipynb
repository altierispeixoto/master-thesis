{
 "cells": [
  {
   "cell_type": "code",
   "execution_count": 3,
   "metadata": {},
   "outputs": [],
   "source": [
    "import pyspark.sql.functions as F\n",
    "from pyspark.sql.types import DoubleType, StringType, IntegerType\n",
    "\n",
    "from pyspark.conf import SparkConf\n",
    "from pyspark.sql import SQLContext\n",
    "import pyspark.sql.functions as F\n",
    "from pyspark import SparkContext"
   ]
  },
  {
   "cell_type": "code",
   "execution_count": 4,
   "metadata": {},
   "outputs": [],
   "source": [
    "conf = SparkConf().setAppName(\"App\")\n",
    "conf = (conf.setMaster('local[*]')\n",
    "                     .set('spark.executor.memory', '4G')\n",
    "                     .set('spark.driver.memory', '2G')\n",
    "                     .set('spark.driver.maxResultSize', '4G')\n",
    "                     .set('spark.sql.autoBroadcastJoinThreshold', '-1')\n",
    "                     .set(\"spark.sql.sources.partitionOverwriteMode\", \"dynamic\")\n",
    "                     )"
   ]
  },
  {
   "cell_type": "code",
   "execution_count": 5,
   "metadata": {},
   "outputs": [],
   "source": [
    "sc = SparkContext.getOrCreate(conf=conf)\n",
    "spark = SQLContext(sc)"
   ]
  },
  {
   "cell_type": "code",
   "execution_count": 6,
   "metadata": {},
   "outputs": [
    {
     "name": "stdout",
     "output_type": "stream",
     "text": [
      "+---------+-------------------+----------+----------+-------+----+-----+---+\n",
      "|line_code|    event_timestamp|  latitude| longitude|vehicle|year|month|day|\n",
      "+---------+-------------------+----------+----------+-------+----+-----+---+\n",
      "|      924|2020-05-03 23:50:08|-25.374803|-49.223443|  BA002|2020|    5|  3|\n",
      "|      924|2020-05-03 23:42:14|-25.365111|-49.262185|  BA002|2020|    5|  3|\n",
      "|      924|2020-05-03 23:22:39|-25.380683|-49.313288|  BA002|2020|    5|  3|\n",
      "|      924|2020-05-03 23:19:28|-25.393895|-49.319213|  BA002|2020|    5|  3|\n",
      "|      924|2020-05-03 22:57:53|-25.391961|-49.318891|  BA002|2020|    5|  3|\n",
      "|      924|2020-05-03 22:16:21|-25.374115|-49.224081|  BA002|2020|    5|  3|\n",
      "|      924|2020-05-03 22:00:16|-25.385821|-49.282263|  BA002|2020|    5|  3|\n",
      "|      924|2020-05-03 21:40:49|-25.398908|-49.314553|  BA002|2020|    5|  3|\n",
      "|      924|2020-05-03 21:15:57|-25.387338|-49.301471|  BA002|2020|    5|  3|\n",
      "|      924|2020-05-03 21:06:03|-25.374866|-49.274361|  BA002|2020|    5|  3|\n",
      "|      924|2020-05-03 21:00:25|-25.365125|-49.262276|  BA002|2020|    5|  3|\n",
      "|      924|2020-05-03 20:59:10|-25.365553|-49.259371|  BA002|2020|    5|  3|\n",
      "|      924|2020-05-03 20:40:48|-25.372158| -49.22839|  BA002|2020|    5|  3|\n",
      "|      924|2020-05-03 20:38:43| -25.36557| -49.24101|  BA002|2020|    5|  3|\n",
      "|      924|2020-05-03 20:24:24|-25.390623| -49.28338|  BA002|2020|    5|  3|\n",
      "|      924|2020-05-03 20:23:20|-25.395346|-49.285478|  BA002|2020|    5|  3|\n",
      "|      924|2020-05-03 20:02:07|-25.401603|-49.326793|  BA002|2020|    5|  3|\n",
      "|      924|2020-05-03 19:28:40|-25.389165|-49.283455|  BA002|2020|    5|  3|\n",
      "|      924|2020-05-03 18:20:02|-25.399823|-49.326513|  BA002|2020|    5|  3|\n",
      "|      924|2020-05-03 18:18:59|-25.402116|-49.328083|  BA002|2020|    5|  3|\n",
      "+---------+-------------------+----------+----------+-------+----+-----+---+\n",
      "only showing top 20 rows\n",
      "\n"
     ]
    }
   ],
   "source": [
    "spark.read.parquet(\"/opt/work/data/trusted/vehicles\").show()"
   ]
  },
  {
   "cell_type": "code",
   "execution_count": 7,
   "metadata": {},
   "outputs": [
    {
     "name": "stdout",
     "output_type": "stream",
     "text": [
      "+----------------+--------------------+---------+-----------+---------+----+-----+---+\n",
      "|service_category|           line_name|line_code|      color|card_only|year|month|day|\n",
      "+----------------+--------------------+---------+-----------+---------+----+-----+---+\n",
      "|     ALIMENTADOR|        BUTIATUVINHA|      913|    LARANJA|        S|2020|    5|  4|\n",
      "|     ALIMENTADOR|           IGUAPE II|      515|    LARANJA|        N|2020|    5|  4|\n",
      "|     ALIMENTADOR|            MERCURIO|      331|    LARANJA|        S|2020|    5|  4|\n",
      "|    CONVENCIONAL|              CAJURU|      386|    AMARELA|        S|2020|    5|  4|\n",
      "|     ALIMENTADOR|          V. LEONICE|      242|    LARANJA|        F|2020|    5|  4|\n",
      "|    CONVENCIONAL|ITUPAVA / HOSP. M...|      366|    AMARELA|        S|2020|    5|  4|\n",
      "|     ALIMENTADOR|       NIVALDO BRAGA|      521|    LARANJA|        N|2020|    5|  4|\n",
      "|    CONVENCIONAL|   NSA.SRA.DE NAZARE|      280|    AMARELA|        S|2020|    5|  4|\n",
      "|    CONVENCIONAL|          ESTUDANTES|      466|    AMARELA|        S|2020|    5|  4|\n",
      "|     MADRUGUEIRO|MAD. CENTENARIO /...|      308|MADRUGUEIRO|        N|2020|    5|  4|\n",
      "|     ALIMENTADOR|              RONDON|      622|    LARANJA|        F|2020|    5|  4|\n",
      "|     ALIMENTADOR|           STA. INES|      531|    LARANJA|        N|2020|    5|  4|\n",
      "|    CONVENCIONAL|         GUILHERMINA|      561|    AMARELA|        S|2020|    5|  4|\n",
      "|     ALIMENTADOR| FAZENDINHA / PORT?O|      611|    LARANJA|        N|2020|    5|  4|\n",
      "|     ALIMENTADOR|               KAMYR|      656|    LARANJA|        N|2020|    5|  4|\n",
      "|        EXPRESSO|     CABRAL / C.RASO|      202|   VERMELHA|        N|2020|    5|  4|\n",
      "|    LINHA DIRETA|PINHEIRINHO/PREFE...|      X35|      PRATA|        S|2020|    5|  4|\n",
      "|    CONVENCIONAL|          BRACATINGA|      170|    AMARELA|        S|2020|    5|  4|\n",
      "|     MADRUGUEIRO|       MAD. S?O BRAZ|      889|MADRUGUEIRO|        N|2020|    5|  4|\n",
      "|     MADRUGUEIRO|MAD. TARUM? / AUG...|      389|MADRUGUEIRO|        S|2020|    5|  4|\n",
      "+----------------+--------------------+---------+-----------+---------+----+-----+---+\n",
      "only showing top 20 rows\n",
      "\n"
     ]
    }
   ],
   "source": [
    "spark.read.parquet(\"/opt/work/data/trusted/lines\").show()"
   ]
  },
  {
   "cell_type": "code",
   "execution_count": 34,
   "metadata": {},
   "outputs": [
    {
     "name": "stdout",
     "output_type": "stream",
     "text": [
      "+------------+---+---------+----------------+----------------+--------------------+------+--------------------+---------------+----+-----+---+\n",
      "|itinerary_id|seq|line_code|        latitude|       longitude|                name|number|            line_way|           type|year|month|day|\n",
      "+------------+---+---------+----------------+----------------+--------------------+------+--------------------+---------------+----+-----+---+\n",
      "|         482|  6|      011|-25.413472422663|-49.281147930059|R. Dom Alberto Go...|120109|        Anti-horario|Novo mobiliario|2020|    5|  3|\n",
      "|         583|  7|      232|-25.363332146707|-49.228913218922|Rua Nossa Senhora...|120743|             Alianca| Sem demarcac?o|2020|    5|  3|\n",
      "|         586| 18|      236|-25.360828428536|-49.245390314447|Rua Teodoro Makio...|120754|        S?o Benedito|  Chapeu chines|2020|    5|  3|\n",
      "|         683|  9|      461|-25.463595494228|-49.226472408718|Rua Eduardo Coutu...|140571|   Praca Rui Barbosa|  Chapeu chines|2020|    5|  3|\n",
      "|         887| 28|      658|-25.497512051604| -49.34524732942|Estrada Velha do ...|180323|      Terminal Caiua|  Chapeu chines|2020|    5|  3|\n",
      "|         910| 15|      673| -25.46799192961|-49.295588911718|Rua Francisco Fri...|180971|             Formosa|Novo mobiliario|2020|    5|  3|\n",
      "|         917| 25|      681|-25.512501999614|-49.295013381615|Terminal Pinheiri...|105726|Terminal Pinheirinho|     Plataforma|2020|    5|  3|\n",
      "|         952|  3|      718|-25.481587873063|-49.337613482618|Rua Lenira M dos ...|180476|          Porto Belo|  Chapeu chines|2020|    5|  3|\n",
      "|         989| 36|      821| -25.40062683012|-49.330711979797|Terminal Santa Fe...|106017|Terminal Santa Fe...|     Plataforma|2020|    5|  3|\n",
      "|        1749| 22|      387|-25.453615160075|-49.220742801075|Rua Goiania, 405 ...|140948|           Palotinos|  Placa em cano|2020|    5|  3|\n",
      "|        2645|105|      021|-25.415440928516|-49.290074139881|R. Jacarezinho, 1...|190633| Terminal Cap?o Raso|Novo mobiliario|2020|    5|  3|\n",
      "|        2684| 28|      502|-25.475016633746|-49.274071283898|Estac?o Tubo Ante...|108118|Terminal Sitio Ce...|   Estac?o tubo|2020|    5|  3|\n",
      "|        2802|  5|      814|-25.430515466075|-49.329654519014|Marginal Rodovia ...|190003|Atendimento Espec...|       Concreto|2020|    5|  3|\n",
      "|        3545|  3|      825|-25.475835129691| -49.37570247168|Rua Angelo Marque...|180373|Terminal Campo Co...|  Chapeu chines|2020|    5|  3|\n",
      "|        8135|  6|      938|-25.411248508006|-49.325618923849|Rua Jo?o Azolin, ...|190781|              Veneza| Placa em poste|2020|    5|  3|\n",
      "|        1343|  1|      603|-25.436130098449|-49.274241942317|Estac?o Tubo Prac...|108216|Terminal Pinheirinho|   Estac?o tubo|2020|    5|  3|\n",
      "|        8253| 12|      659|-25.631314457419|-49.351996779442|Estrada Delegado ...|170413|Terminal Pinheiri...|          Domus|2020|    5|  3|\n",
      "|         608| 13|      280|-25.399598532517|-49.253348811461|Rua Pedro Fabri, ...|120395|Nossa Sra. de Nazare|Novo mobiliario|2020|    5|  3|\n",
      "|         696| 10|      467|-25.445345724999|-49.249029786533|Av. Comendador Fr...|140534|         Vila Macedo|Novo mobiliario|2020|    5|  3|\n",
      "|        7713| 10|      552|-25.548221156887| -49.25973839633|Rua Tijucas do Su...|160464|Sambaqui - Ultima...|  Placa em cano|2020|    5|  3|\n",
      "+------------+---+---------+----------------+----------------+--------------------+------+--------------------+---------------+----+-----+---+\n",
      "only showing top 20 rows\n",
      "\n"
     ]
    }
   ],
   "source": [
    "spark.read.parquet(\"/opt/work/data/trusted/busstops\").show()"
   ]
  },
  {
   "cell_type": "code",
   "execution_count": 36,
   "metadata": {},
   "outputs": [
    {
     "name": "stdout",
     "output_type": "stream",
     "text": [
      "+---------+--------------------+--------------+-----+---------+-------+----+-----+---+\n",
      "|line_code|           line_name|busstop_number| time|timetable|vehicle|year|month|day|\n",
      "+---------+--------------------+--------------+-----+---------+-------+----+-----+---+\n",
      "|      519|MAD. S. FRANCISCO...|              |01:15|        1|  EA179|2020|    5|  3|\n",
      "|      209|MAD. S. CANDIDA /...|              |02:40|        2|  HN616|2020|    5|  3|\n",
      "|      714|           V. MARISA|        180333|05:50|        1|  JI850|2020|    5|  3|\n",
      "|      374|          HUGO LANGE|        104002|05:54|        1|  BI005|2020|    5|  3|\n",
      "|      629|      ALTO BOQUEIR?O|        160016|06:00|        2|  KA604|2020|    5|  3|\n",
      "|      637|          STA. JOANA|        106115|06:07|        1|  GI004|2020|    5|  3|\n",
      "|      040|     INTERBAIRROS IV|        105316|06:40|        1|  LB601|2020|    5|  3|\n",
      "|      023|INTER 2 (ANTI-HOR...|        109167|07:10|        7|  DL317|2020|    5|  3|\n",
      "|      030|    INTERBAIRROS III|        105907|07:20|        3|  CB601|2020|    5|  3|\n",
      "|      924|STA. FELICIDADE /...|        120032|07:37|        1|  BA027|2020|    5|  3|\n",
      "|      275|F. NORONHA / LARA...|        101163|07:38|        1|  BI880|2020|    5|  3|\n",
      "|      256|BARREIRINHA/GUADA...|        109078|08:08|        3|  BL315|2020|    5|  3|\n",
      "|      213|            S?O JO?O|        130168|08:10|        1|  BN616|2020|    5|  3|\n",
      "|      205|         BARREIRINHA|        104103|08:35|        3|  BC305|2020|    5|  3|\n",
      "|      203|STA.CANDIDA / C. ...|        105901|08:52|        9|  GE720|2020|    5|  3|\n",
      "|      256|BARREIRINHA/GUADA...|        109078|08:59|        3|  BL315|2020|    5|  3|\n",
      "|      625|            GRAMADOS|        104812|09:00|        1|  GI031|2020|    5|  3|\n",
      "|      213|            S?O JO?O|        130168|09:30|        1|  BN616|2020|    5|  3|\n",
      "|      280|   NSA.SRA.DE NAZARE|        101017|10:00|        1|  BI867|2020|    5|  3|\n",
      "|      508|    SITIOCERCADO(AH)|        109111|10:10|        2|       |2020|    5|  3|\n",
      "+---------+--------------------+--------------+-----+---------+-------+----+-----+---+\n",
      "only showing top 20 rows\n",
      "\n"
     ]
    }
   ],
   "source": [
    "spark.read.parquet(\"/opt/work/data/trusted/timetable\").show()"
   ]
  },
  {
   "cell_type": "code",
   "execution_count": null,
   "metadata": {},
   "outputs": [],
   "source": []
  },
  {
   "cell_type": "code",
   "execution_count": 98,
   "metadata": {},
   "outputs": [],
   "source": [
    "lines = spark.read.parquet(\"/opt/work/data/trusted/lines\").filter(f\"year =='2020' and month=='5' and day=='3'\")"
   ]
  },
  {
   "cell_type": "code",
   "execution_count": 99,
   "metadata": {},
   "outputs": [
    {
     "name": "stdout",
     "output_type": "stream",
     "text": [
      "+----------------+--------------------+---------+-------+---------+----+-----+---+\n",
      "|service_category|           line_name|line_code|  color|card_only|year|month|day|\n",
      "+----------------+--------------------+---------+-------+---------+----+-----+---+\n",
      "|     ALIMENTADOR|       BAIRRO NOVO A|      541|LARANJA|        N|2020|    5|  3|\n",
      "|     ALIMENTADOR|BOQUEIR?O/PINHEIR...|      528|LARANJA|        N|2020|    5|  3|\n",
      "+----------------+--------------------+---------+-------+---------+----+-----+---+\n",
      "only showing top 2 rows\n",
      "\n"
     ]
    }
   ],
   "source": [
    "lines.show(2)"
   ]
  },
  {
   "cell_type": "code",
   "execution_count": 147,
   "metadata": {},
   "outputs": [],
   "source": [
    "busstops = spark.read.parquet(\"/opt/work/data/trusted/busstops\").filter(f\"year =='2020' and month=='5' and day=='3'\").select(\"line_code\",\"line_way\",\"number\",\"name\",F.col(\"seq\").cast(IntegerType()),\"year\",\"month\",\"day\")"
   ]
  },
  {
   "cell_type": "code",
   "execution_count": 148,
   "metadata": {},
   "outputs": [
    {
     "name": "stdout",
     "output_type": "stream",
     "text": [
      "+---------+------------+------+--------------------+---+----+-----+---+\n",
      "|line_code|    line_way|number|                name|seq|year|month|day|\n",
      "+---------+------------+------+--------------------+---+----+-----+---+\n",
      "|      011|Anti-horario|120109|R. Dom Alberto Go...|  6|2020|    5|  3|\n",
      "|      232|     Alianca|120743|Rua Nossa Senhora...|  7|2020|    5|  3|\n",
      "+---------+------------+------+--------------------+---+----+-----+---+\n",
      "only showing top 2 rows\n",
      "\n"
     ]
    }
   ],
   "source": [
    "busstops.show(2)"
   ]
  },
  {
   "cell_type": "code",
   "execution_count": null,
   "metadata": {},
   "outputs": [],
   "source": []
  },
  {
   "cell_type": "code",
   "execution_count": 107,
   "metadata": {},
   "outputs": [
    {
     "name": "stdout",
     "output_type": "stream",
     "text": [
      "+----------------+--------------------+---------+-------+---------+----+-----+---+\n",
      "|service_category|           line_name|line_code|  color|card_only|year|month|day|\n",
      "+----------------+--------------------+---------+-------+---------+----+-----+---+\n",
      "|     ALIMENTADOR|       BAIRRO NOVO A|      541|LARANJA|        N|2020|    5|  3|\n",
      "|     ALIMENTADOR|BOQUEIR?O/PINHEIR...|      528|LARANJA|        N|2020|    5|  3|\n",
      "+----------------+--------------------+---------+-------+---------+----+-----+---+\n",
      "only showing top 2 rows\n",
      "\n"
     ]
    }
   ],
   "source": [
    "lines = spark.read.parquet(\"/opt/work/data/trusted/lines\").filter(f\"year =='2020' and month=='5' and day=='3'\").show(2)"
   ]
  },
  {
   "cell_type": "code",
   "execution_count": 149,
   "metadata": {},
   "outputs": [],
   "source": [
    "start_end = busstops.groupby(\"line_code\", \"line_way\", \"year\", \"month\", \"day\").agg(\n",
    "            F.min('seq').alias(\"start_trip\"), F.max('seq').alias(\"end_trip\")) \\\n",
    "            .select(\"line_code\", \"line_way\", \"start_trip\", \"end_trip\", \"year\", \"month\", \"day\")\n",
    "\n",
    "\n",
    "trip_endpoints = start_end.alias(\"ss\") \\\n",
    "            .join(busstops.alias(\"ps\"),\n",
    "                  (F.col(\"ss.line_code\") == F.col(\"ps.line_code\")) & (F.col(\"ss.line_way\") == F.col(\"ps.line_way\")) & (\n",
    "                          F.col(\"ss.start_trip\") == F.col(\"ps.seq\"))) \\\n",
    "            .join(busstops.alias(\"pe\"),\n",
    "                  (F.col(\"ss.line_code\") == F.col(\"pe.line_code\")) & (F.col(\"ss.line_way\") == F.col(\"pe.line_way\")) & (\n",
    "                          F.col(\"ss.end_trip\") == F.col(\"pe.seq\"))) \\\n",
    "            .select(\"ps.line_code\", \"ps.line_way\", F.col(\"ps.number\").alias(\"start_point\"),\n",
    "                    F.col(\"pe.number\").alias(\"end_point\"), \"ss.year\", \"ss.month\", \"ss.day\")"
   ]
  },
  {
   "cell_type": "code",
   "execution_count": 150,
   "metadata": {},
   "outputs": [],
   "source": [
    "timetable = spark.read.parquet(\"/opt/work/data/trusted/timetable\").filter(f\"year =='2020' and month=='5' and day=='3'\")"
   ]
  },
  {
   "cell_type": "code",
   "execution_count": 151,
   "metadata": {},
   "outputs": [],
   "source": [
    "from pyspark.sql.window import Window\n",
    "from pyspark.sql.functions import lag, lead, first, last, desc\n",
    "\n",
    "trips = timetable\\\n",
    ".withColumn('end_time', F.lead('time').over(Window.partitionBy('line_code','timetable','vehicle').orderBy('line_code','time'))) \\\n",
    ".withColumn('end_point', F.lead('busstop_number').over(Window.partitionBy('line_code','timetable','vehicle').orderBy('line_code','time'))) \\\n",
    ".select('line_code',F.col('busstop_number').alias('start_point') , F.col('time').alias('start_time'),'timetable','vehicle','end_time','end_point') \\\n",
    ".orderBy('line_code','time')"
   ]
  },
  {
   "cell_type": "code",
   "execution_count": 152,
   "metadata": {},
   "outputs": [
    {
     "name": "stdout",
     "output_type": "stream",
     "text": [
      "+---------+-----------+---------+----------+---------+-------+--------+--------------------+----+-----+---+\n",
      "|line_code|start_point|end_point|start_time|timetable|vehicle|end_time|            line_way|year|month|day|\n",
      "+---------+-----------+---------+----------+---------+-------+--------+--------------------+----+-----+---+\n",
      "|      232|     120990|   105903|     05:42|        1|  BA004|   06:01|Terminal Santa Ca...|2020|    5|  3|\n",
      "|      232|     120990|   105903|     06:18|        1|  BA004|   06:35|Terminal Santa Ca...|2020|    5|  3|\n",
      "|      232|     120990|   105903|     06:52|        1|  BA004|   07:10|Terminal Santa Ca...|2020|    5|  3|\n",
      "|      232|     120990|   105903|     07:27|        1|  BA004|   07:45|Terminal Santa Ca...|2020|    5|  3|\n",
      "|      232|     120990|   105903|     08:02|        1|  BA004|   08:20|Terminal Santa Ca...|2020|    5|  3|\n",
      "|      232|     120990|   105903|     08:37|        1|  BA004|   08:55|Terminal Santa Ca...|2020|    5|  3|\n",
      "|      232|     120990|   105903|     09:12|        1|  BA004|   09:30|Terminal Santa Ca...|2020|    5|  3|\n",
      "|      232|     120990|   105903|     09:47|        1|  BA004|   10:05|Terminal Santa Ca...|2020|    5|  3|\n",
      "|      232|     120990|   105903|     10:22|        1|  BA004|   10:40|Terminal Santa Ca...|2020|    5|  3|\n",
      "|      232|     120990|   105903|     10:57|        1|  BA004|   11:15|Terminal Santa Ca...|2020|    5|  3|\n",
      "|      232|     120990|   105903|     11:32|        1|  BA004|   11:50|Terminal Santa Ca...|2020|    5|  3|\n",
      "|      232|     120990|   105903|     12:07|        1|  BA004|   12:25|Terminal Santa Ca...|2020|    5|  3|\n",
      "|      232|     120990|   105903|     12:42|        1|  BA004|   13:00|Terminal Santa Ca...|2020|    5|  3|\n",
      "|      232|     120990|   105903|     13:17|        1|  BA004|   13:35|Terminal Santa Ca...|2020|    5|  3|\n",
      "|      232|     120990|   105903|     13:50|        1|  BA004|   14:07|Terminal Santa Ca...|2020|    5|  3|\n",
      "|      232|     120990|   105903|     14:22|        1|  BA004|   14:40|Terminal Santa Ca...|2020|    5|  3|\n",
      "|      232|     120990|   105903|     14:57|        1|  BA004|   15:15|Terminal Santa Ca...|2020|    5|  3|\n",
      "|      232|     120990|   105903|     15:32|        1|  BA004|   15:50|Terminal Santa Ca...|2020|    5|  3|\n",
      "|      232|     120990|   105903|     16:07|        1|  BA004|   16:25|Terminal Santa Ca...|2020|    5|  3|\n",
      "|      232|     120990|   105903|     16:42|        1|  BA004|   17:00|Terminal Santa Ca...|2020|    5|  3|\n",
      "+---------+-----------+---------+----------+---------+-------+--------+--------------------+----+-----+---+\n",
      "only showing top 20 rows\n",
      "\n"
     ]
    }
   ],
   "source": [
    "trips.join(trip_endpoints,['line_code','start_point','end_point'], how='left').filter('line_way is not null').show()"
   ]
  },
  {
   "cell_type": "code",
   "execution_count": 158,
   "metadata": {},
   "outputs": [],
   "source": [
    "import pyspark.sql.functions as F\n",
    "from pyspark.sql import DataFrame\n",
    "from pyspark.sql.types import IntegerType\n",
    "from pyspark.sql.window import Window\n",
    "\n",
    "\n",
    "class BusStopRefinedProcess:\n",
    "\n",
    "    def __init__(self):\n",
    "        self.df = self.filter_data(\"2020\", \"5\", \"3\")\n",
    "\n",
    "#     def perform(self):\n",
    "#         bus_stop_type = self.bus_stop_type()\n",
    "#         self.save(bus_stop_type, \"/data/refined/bus_stop_type\")\n",
    "\n",
    "#         bus_stops = self.bus_stops()\n",
    "#         self.save(bus_stops, \"/data/refined/bus_stops\")\n",
    "\n",
    "#         line_routes = self.line_routes()\n",
    "#         self.save(line_routes, \"/data/refined/line_routes\")\n",
    "\n",
    "#         trip_endpoints = self.trip_endpoints()\n",
    "#         self.save(trip_endpoints, \"/data/refined/trip_endpoints\")\n",
    "\n",
    "#     def __call__(self, *args, **kwargs):\n",
    "#         self.perform()\n",
    "\n",
    "    def filter_data(self, year: str, month: str, day: str) -> DataFrame:\n",
    "        return spark.read.parquet(\"/opt/work/data/trusted/busstops\") \\\n",
    "            .filter(f\"year =='{year}' and month=='{month}' and day=='{day}'\")\n",
    "\n",
    "    def bus_stop_type(self) -> DataFrame:\n",
    "        return self.df.select(\"type\", \"year\", \"month\", \"day\").distinct()\n",
    "\n",
    "    def bus_stops(self, ) -> DataFrame:\n",
    "        return self.df \\\n",
    "            .select(\"line_code\", \"line_way\", \"number\", \"name\", F.col(\"seq\").cast(IntegerType()).alias(\"seq\"),\n",
    "                    \"latitude\", \"longitude\", \"type\", \"year\", \"month\", \"day\") \\\n",
    "            .distinct()\n",
    "\n",
    "    def line_routes(self) -> DataFrame:\n",
    "        bus_stops = self.bus_stops().select(\"line_code\", \"line_way\", \"number\", \"name\", \"seq\", \"year\", \"month\", \"day\")\n",
    "\n",
    "        return bus_stops.alias(\"ps\") \\\n",
    "            .join(bus_stops.alias(\"pe\"),\n",
    "                  (F.col(\"ps.line_code\") == F.col(\"pe.line_code\")) & (F.col(\"ps.line_way\") == F.col(\"pe.line_way\")) & (\n",
    "                          F.col(\"ps.seq\") + 1 == F.col(\"pe.seq\"))) \\\n",
    "            .select(\"ps.line_code\", \"ps.line_way\", F.col(\"ps.seq\").alias(\"start_seq\"), F.col(\"pe.seq\").alias(\"end_seq\"),\n",
    "                    F.col(\"ps.number\").alias(\"start_point\"), F.col(\"pe.number\").alias(\"end_point\"), \"ps.year\",\n",
    "                    \"ps.month\", \"ps.day\") \\\n",
    "            .orderBy(\"line_code\", F.asc(\"start_seq\"))\n",
    "\n",
    "    def line_start_end(self) -> DataFrame:\n",
    "        return self.bus_stops().groupby(\"line_code\", \"line_way\", \"year\", \"month\", \"day\") \\\n",
    "            .agg(F.min('seq').alias(\"start_trip\"), F.max('seq').alias(\"end_trip\")) \\\n",
    "            .select(\"line_code\", \"line_way\", \"start_trip\", \"end_trip\", \"year\", \"month\", \"day\")\n",
    "\n",
    "    def trip_endpoints(self) -> DataFrame:\n",
    "        bus_stops = self.bus_stops()\n",
    "        line_start_end = self.line_start_end()\n",
    "\n",
    "        return line_start_end.alias(\"ss\") \\\n",
    "            .join(bus_stops.alias(\"ps\"),\n",
    "                  (F.col(\"ss.line_code\") == F.col(\"ps.line_code\")) & (F.col(\"ss.line_way\") == F.col(\"ps.line_way\")) & (\n",
    "                          F.col(\"ss.start_trip\") == F.col(\"ps.seq\"))) \\\n",
    "            .join(bus_stops.alias(\"pe\"),\n",
    "                  (F.col(\"ss.line_code\") == F.col(\"pe.line_code\")) & (F.col(\"ss.line_way\") == F.col(\"pe.line_way\")) & (\n",
    "                          F.col(\"ss.end_trip\") == F.col(\"pe.seq\"))) \\\n",
    "            .select(\"ps.line_code\", \"ps.line_way\", F.col(\"ps.number\").alias(\"start_point\"),\n",
    "                    F.col(\"pe.number\").alias(\"end_point\"), \"ss.year\",\n",
    "                    \"ss.month\", \"ss.day\")"
   ]
  },
  {
   "cell_type": "code",
   "execution_count": 160,
   "metadata": {},
   "outputs": [
    {
     "name": "stdout",
     "output_type": "stream",
     "text": [
      "+---------+--------------------+-----------+---------+----+-----+---+\n",
      "|line_code|            line_way|start_point|end_point|year|month|day|\n",
      "+---------+--------------------+-----------+---------+----+-----+---+\n",
      "|      170|          Bracatinga|     101126|   120317|2020|    5|  3|\n",
      "|      646|Terminal Pinheirinho|     170401|   105721|2020|    5|  3|\n",
      "|      720| Terminal Fazendinha|     104612|   105316|2020|    5|  3|\n",
      "|      225|  Terminal Boa Vista|     104105|   104206|2020|    5|  3|\n",
      "|      233|   Olaria (Circular)|     105908|   105908|2020|    5|  3|\n",
      "|      242|          V. Leonice|     104109|   120568|2020|    5|  3|\n",
      "|      244|Terminal Barreirinha|     120995|   104104|2020|    5|  3|\n",
      "|      475|         Canal Belem|     108170|   140871|2020|    5|  3|\n",
      "|      772|                Tupy|     105914|   631007|2020|    5|  3|\n",
      "|      659|Terminal Pinheirinho|     170417|   105719|2020|    5|  3|\n",
      "|      022| Terminal Cap?o Raso|     109108|   109065|2020|    5|  3|\n",
      "|      468|        Jd. Centauro|     108170|   140630|2020|    5|  3|\n",
      "|      594|               SITES|     160767|   130877|2020|    5|  3|\n",
      "|      617|Terminal Pinheirinho|     171013|   105740|2020|    5|  3|\n",
      "|      661|   Praca Rui Barbosa|     150683|   108170|2020|    5|  3|\n",
      "|      175|                 PUC|     120948|   140271|2020|    5|  3|\n",
      "|      464|      Alcides Munhoz|     140920|   190908|2020|    5|  3|\n",
      "|      507|             Horario|     109113|   109113|2020|    5|  3|\n",
      "|      522|      Terminal Carmo|     150808|   104909|2020|    5|  3|\n",
      "|      701| Terminal Fazendinha|     102015|   105301|2020|    5|  3|\n",
      "+---------+--------------------+-----------+---------+----+-----+---+\n",
      "only showing top 20 rows\n",
      "\n"
     ]
    }
   ],
   "source": [
    "BusStopRefinedProcess().trip_endpoints().show()"
   ]
  },
  {
   "cell_type": "code",
   "execution_count": null,
   "metadata": {},
   "outputs": [],
   "source": []
  }
 ],
 "metadata": {
  "kernelspec": {
   "display_name": "Python 3",
   "language": "python",
   "name": "python3"
  },
  "language_info": {
   "codemirror_mode": {
    "name": "ipython",
    "version": 3
   },
   "file_extension": ".py",
   "mimetype": "text/x-python",
   "name": "python",
   "nbconvert_exporter": "python",
   "pygments_lexer": "ipython3",
   "version": "3.8.4"
  }
 },
 "nbformat": 4,
 "nbformat_minor": 4
}
