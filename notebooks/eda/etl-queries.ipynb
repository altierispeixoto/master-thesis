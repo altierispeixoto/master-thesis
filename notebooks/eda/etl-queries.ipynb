{
 "cells": [
  {
   "cell_type": "code",
   "execution_count": 2,
   "metadata": {},
   "outputs": [],
   "source": [
    "import pyspark.sql.functions as F\n",
    "from pyspark.sql.types import DoubleType, StringType\n",
    "\n",
    "from pyspark.conf import SparkConf\n",
    "from pyspark.sql import SQLContext\n",
    "import pyspark.sql.functions as F\n",
    "from pyspark import SparkContext"
   ]
  },
  {
   "cell_type": "code",
   "execution_count": 3,
   "metadata": {},
   "outputs": [],
   "source": [
    "conf = SparkConf().setAppName(\"App\")\n",
    "conf = (conf.setMaster('local[*]')\n",
    "                     .set('spark.executor.memory', '4G')\n",
    "                     .set('spark.driver.memory', '2G')\n",
    "                     .set('spark.driver.maxResultSize', '4G')\n",
    "                     .set('spark.sql.autoBroadcastJoinThreshold', '-1')\n",
    "                     .set(\"spark.sql.sources.partitionOverwriteMode\", \"dynamic\")\n",
    "                     )"
   ]
  },
  {
   "cell_type": "code",
   "execution_count": 4,
   "metadata": {},
   "outputs": [],
   "source": [
    "sc = SparkContext.getOrCreate(conf=conf)\n",
    "spark = SQLContext(sc)"
   ]
  },
  {
   "cell_type": "code",
   "execution_count": 5,
   "metadata": {},
   "outputs": [
    {
     "name": "stdout",
     "output_type": "stream",
     "text": [
      "+---------+-------------------+----------+----------+-------+----+-----+---+\n",
      "|line_code|    event_timestamp|  latitude| longitude|vehicle|year|month|day|\n",
      "+---------+-------------------+----------+----------+-------+----+-----+---+\n",
      "|      924|2020-05-02 23:34:43|-25.379728|-49.279178|  BA002|2020|    5|  2|\n",
      "|      924|2020-05-02 22:54:08|-25.383723|-49.317871|  BA002|2020|    5|  2|\n",
      "|      924|2020-05-02 22:47:28|-25.386876|-49.302771|  BA002|2020|    5|  2|\n",
      "|      924|2020-05-02 22:29:59|-25.362436|-49.243726|  BA002|2020|    5|  2|\n",
      "|      924|2020-05-02 22:11:51|-25.370946|-49.232865|  BA002|2020|    5|  2|\n",
      "|      924|2020-05-02 21:54:21|-25.393511|-49.290091|  BA002|2020|    5|  2|\n",
      "|      924|2020-05-02 21:06:12|-25.387711|-49.282928|  BA002|2020|    5|  2|\n",
      "|      924|2020-05-02 20:08:28|-25.383323|-49.314746|  BA002|2020|    5|  2|\n",
      "|      924|2020-05-02 20:05:35|-25.395313|-49.315823|  BA002|2020|    5|  2|\n",
      "|      924|2020-05-02 20:04:43|-25.397418| -49.31392|  BA002|2020|    5|  2|\n",
      "|      924|2020-05-02 19:48:53|-25.401788| -49.32916|  BA002|2020|    5|  2|\n",
      "|      924|2020-05-02 19:09:43|-25.373865|-49.224888|  BA002|2020|    5|  2|\n",
      "|      924|2020-05-02 18:02:00|-25.380706| -49.31344|  BA002|2020|    5|  2|\n",
      "|      924|2020-05-02 17:56:58|-25.381771|-49.305633|  BA002|2020|    5|  2|\n",
      "|      924|2020-05-02 17:44:01|-25.375316|-49.274658|  BA002|2020|    5|  2|\n",
      "|      924|2020-05-02 17:29:12|-25.369786|-49.235585|  BA002|2020|    5|  2|\n",
      "|      924|2020-05-02 16:45:13|-25.376196|-49.314758|  BA002|2020|    5|  2|\n",
      "|      924|2020-05-02 16:41:58|-25.385615| -49.32163|  BA002|2020|    5|  2|\n",
      "|      924|2020-05-02 16:36:21|-25.398865|-49.320898|  BA002|2020|    5|  2|\n",
      "|      924|2020-05-02 16:13:56|-25.375665| -49.31089|  BA002|2020|    5|  2|\n",
      "+---------+-------------------+----------+----------+-------+----+-----+---+\n",
      "only showing top 20 rows\n",
      "\n"
     ]
    }
   ],
   "source": [
    "spark.read.parquet(\"/opt/work/data/trusted/vehicles\").show()"
   ]
  },
  {
   "cell_type": "code",
   "execution_count": 31,
   "metadata": {},
   "outputs": [
    {
     "name": "stdout",
     "output_type": "stream",
     "text": [
      "+----------------+--------------------+---------+-----------+---------+----+-----+---+\n",
      "|service_category|           line_name|line_code|      color|card_only|year|month|day|\n",
      "+----------------+--------------------+---------+-----------+---------+----+-----+---+\n",
      "|     ALIMENTADOR|           V. MARISA|      714|    LARANJA|        F|2020|    5|  1|\n",
      "|    LINHA DIRETA|BARREIRINHA/GUADA...|      256|      PRATA|        N|2020|    5|  1|\n",
      "|    LINHA DIRETA|          CENTENARIO|      305|      PRATA|        N|2020|    5|  1|\n",
      "|     ALIMENTADOR|       S?O FRANCISCO|      511|    LARANJA|        N|2020|    5|  1|\n",
      "|    LINHA DIRETA|BOQUEIR?O / C. CI...|      505|      PRATA|        N|2020|    5|  1|\n",
      "|    CONVENCIONAL|              PORT?O|      671|    AMARELA|        S|2020|    5|  1|\n",
      "|     ALIMENTADOR|      ALTO BOQUEIR?O|      629|    LARANJA|        N|2020|    5|  1|\n",
      "|     ALIMENTADOR| C. BELEM / S. FILHO|      516|    LARANJA|        S|2020|    5|  1|\n",
      "|         TRONCAL|           COTOLENGO|      778|    AMARELA|        N|2020|    5|  1|\n",
      "|     ALIMENTADOR|             MARINGA|      522|    LARANJA|        N|2020|    5|  1|\n",
      "|     ALIMENTADOR|     STA. RITA / CIC|      619|    LARANJA|        N|2020|    5|  1|\n",
      "|     ALIMENTADOR|       BAIRRO NOVO A|      541|    LARANJA|        N|2020|    5|  1|\n",
      "|     ALIMENTADOR|PINHEIRINHO / ZOO...|      688|    LARANJA|        N|2020|    5|  1|\n",
      "|        EXPRESSO|STA. CANDIDA / C....|      203|   VERMELHA|        N|2020|    5|  1|\n",
      "|     MADRUGUEIRO|    MAD. PINHEIRINHO|      608|MADRUGUEIRO|        N|2020|    5|  1|\n",
      "|     ALIMENTADOR|   HAUER / BOQUEIR?O|      513|    LARANJA|        N|2020|    5|  1|\n",
      "|     ALIMENTADOR|            ITATIAIA|      711|    LARANJA|        F|2020|    5|  1|\n",
      "|     ALIMENTADOR| JOSE CULPI / VENEZA|      938|    LARANJA|        S|2020|    5|  1|\n",
      "|     ALIMENTADOR|       BAIRRO NOVO C|      547|    LARANJA|        N|2020|    5|  1|\n",
      "|     ALIMENTADOR|BANESTADO / CALIF...|      231|    LARANJA|        F|2020|    5|  1|\n",
      "+----------------+--------------------+---------+-----------+---------+----+-----+---+\n",
      "only showing top 20 rows\n",
      "\n"
     ]
    }
   ],
   "source": [
    "spark.read.parquet(\"/opt/work/data/trusted/lines\").show()"
   ]
  },
  {
   "cell_type": "code",
   "execution_count": 34,
   "metadata": {},
   "outputs": [
    {
     "name": "stdout",
     "output_type": "stream",
     "text": [
      "+------------+---+---------+----------------+----------------+--------------------+------+--------------------+---------------+----+-----+---+\n",
      "|itinerary_id|seq|line_code|        latitude|       longitude|                name|number|            line_way|           type|year|month|day|\n",
      "+------------+---+---------+----------------+----------------+--------------------+------+--------------------+---------------+----+-----+---+\n",
      "|         482|  6|      011|-25.413472422663|-49.281147930059|R. Dom Alberto Go...|120109|        Anti-horario|Novo mobiliario|2020|    5|  3|\n",
      "|         583|  7|      232|-25.363332146707|-49.228913218922|Rua Nossa Senhora...|120743|             Alianca| Sem demarcac?o|2020|    5|  3|\n",
      "|         586| 18|      236|-25.360828428536|-49.245390314447|Rua Teodoro Makio...|120754|        S?o Benedito|  Chapeu chines|2020|    5|  3|\n",
      "|         683|  9|      461|-25.463595494228|-49.226472408718|Rua Eduardo Coutu...|140571|   Praca Rui Barbosa|  Chapeu chines|2020|    5|  3|\n",
      "|         887| 28|      658|-25.497512051604| -49.34524732942|Estrada Velha do ...|180323|      Terminal Caiua|  Chapeu chines|2020|    5|  3|\n",
      "|         910| 15|      673| -25.46799192961|-49.295588911718|Rua Francisco Fri...|180971|             Formosa|Novo mobiliario|2020|    5|  3|\n",
      "|         917| 25|      681|-25.512501999614|-49.295013381615|Terminal Pinheiri...|105726|Terminal Pinheirinho|     Plataforma|2020|    5|  3|\n",
      "|         952|  3|      718|-25.481587873063|-49.337613482618|Rua Lenira M dos ...|180476|          Porto Belo|  Chapeu chines|2020|    5|  3|\n",
      "|         989| 36|      821| -25.40062683012|-49.330711979797|Terminal Santa Fe...|106017|Terminal Santa Fe...|     Plataforma|2020|    5|  3|\n",
      "|        1749| 22|      387|-25.453615160075|-49.220742801075|Rua Goiania, 405 ...|140948|           Palotinos|  Placa em cano|2020|    5|  3|\n",
      "|        2645|105|      021|-25.415440928516|-49.290074139881|R. Jacarezinho, 1...|190633| Terminal Cap?o Raso|Novo mobiliario|2020|    5|  3|\n",
      "|        2684| 28|      502|-25.475016633746|-49.274071283898|Estac?o Tubo Ante...|108118|Terminal Sitio Ce...|   Estac?o tubo|2020|    5|  3|\n",
      "|        2802|  5|      814|-25.430515466075|-49.329654519014|Marginal Rodovia ...|190003|Atendimento Espec...|       Concreto|2020|    5|  3|\n",
      "|        3545|  3|      825|-25.475835129691| -49.37570247168|Rua Angelo Marque...|180373|Terminal Campo Co...|  Chapeu chines|2020|    5|  3|\n",
      "|        8135|  6|      938|-25.411248508006|-49.325618923849|Rua Jo?o Azolin, ...|190781|              Veneza| Placa em poste|2020|    5|  3|\n",
      "|        1343|  1|      603|-25.436130098449|-49.274241942317|Estac?o Tubo Prac...|108216|Terminal Pinheirinho|   Estac?o tubo|2020|    5|  3|\n",
      "|        8253| 12|      659|-25.631314457419|-49.351996779442|Estrada Delegado ...|170413|Terminal Pinheiri...|          Domus|2020|    5|  3|\n",
      "|         608| 13|      280|-25.399598532517|-49.253348811461|Rua Pedro Fabri, ...|120395|Nossa Sra. de Nazare|Novo mobiliario|2020|    5|  3|\n",
      "|         696| 10|      467|-25.445345724999|-49.249029786533|Av. Comendador Fr...|140534|         Vila Macedo|Novo mobiliario|2020|    5|  3|\n",
      "|        7713| 10|      552|-25.548221156887| -49.25973839633|Rua Tijucas do Su...|160464|Sambaqui - Ultima...|  Placa em cano|2020|    5|  3|\n",
      "+------------+---+---------+----------------+----------------+--------------------+------+--------------------+---------------+----+-----+---+\n",
      "only showing top 20 rows\n",
      "\n"
     ]
    }
   ],
   "source": [
    "spark.read.parquet(\"/opt/work/data/trusted/busstops\").show()"
   ]
  },
  {
   "cell_type": "code",
   "execution_count": 36,
   "metadata": {},
   "outputs": [
    {
     "name": "stdout",
     "output_type": "stream",
     "text": [
      "+---------+--------------------+--------------+-----+---------+-------+----+-----+---+\n",
      "|line_code|           line_name|busstop_number| time|timetable|vehicle|year|month|day|\n",
      "+---------+--------------------+--------------+-----+---------+-------+----+-----+---+\n",
      "|      519|MAD. S. FRANCISCO...|              |01:15|        1|  EA179|2020|    5|  3|\n",
      "|      209|MAD. S. CANDIDA /...|              |02:40|        2|  HN616|2020|    5|  3|\n",
      "|      714|           V. MARISA|        180333|05:50|        1|  JI850|2020|    5|  3|\n",
      "|      374|          HUGO LANGE|        104002|05:54|        1|  BI005|2020|    5|  3|\n",
      "|      629|      ALTO BOQUEIR?O|        160016|06:00|        2|  KA604|2020|    5|  3|\n",
      "|      637|          STA. JOANA|        106115|06:07|        1|  GI004|2020|    5|  3|\n",
      "|      040|     INTERBAIRROS IV|        105316|06:40|        1|  LB601|2020|    5|  3|\n",
      "|      023|INTER 2 (ANTI-HOR...|        109167|07:10|        7|  DL317|2020|    5|  3|\n",
      "|      030|    INTERBAIRROS III|        105907|07:20|        3|  CB601|2020|    5|  3|\n",
      "|      924|STA. FELICIDADE /...|        120032|07:37|        1|  BA027|2020|    5|  3|\n",
      "|      275|F. NORONHA / LARA...|        101163|07:38|        1|  BI880|2020|    5|  3|\n",
      "|      256|BARREIRINHA/GUADA...|        109078|08:08|        3|  BL315|2020|    5|  3|\n",
      "|      213|            S?O JO?O|        130168|08:10|        1|  BN616|2020|    5|  3|\n",
      "|      205|         BARREIRINHA|        104103|08:35|        3|  BC305|2020|    5|  3|\n",
      "|      203|STA.CANDIDA / C. ...|        105901|08:52|        9|  GE720|2020|    5|  3|\n",
      "|      256|BARREIRINHA/GUADA...|        109078|08:59|        3|  BL315|2020|    5|  3|\n",
      "|      625|            GRAMADOS|        104812|09:00|        1|  GI031|2020|    5|  3|\n",
      "|      213|            S?O JO?O|        130168|09:30|        1|  BN616|2020|    5|  3|\n",
      "|      280|   NSA.SRA.DE NAZARE|        101017|10:00|        1|  BI867|2020|    5|  3|\n",
      "|      508|    SITIOCERCADO(AH)|        109111|10:10|        2|       |2020|    5|  3|\n",
      "+---------+--------------------+--------------+-----+---------+-------+----+-----+---+\n",
      "only showing top 20 rows\n",
      "\n"
     ]
    }
   ],
   "source": [
    "spark.read.parquet(\"/opt/work/data/trusted/timetable\").show()"
   ]
  },
  {
   "cell_type": "code",
   "execution_count": null,
   "metadata": {},
   "outputs": [],
   "source": [
    "\"  with linhas as (\n",
    "                          select  distinct cod,\n",
    "                                  categoria_servico,\n",
    "                                  nome,\n",
    "                                  nome_cor,\n",
    "                                  somente_cartao,\n",
    "                                  year,\n",
    "                                  month,\n",
    "                                  day\n",
    "                          from (\n",
    "                              select l.cod,\n",
    "                                  l.categoria_servico,\n",
    "                                  l.nome,\n",
    "                                  l.nome_cor,\n",
    "                                  l.somente_cartao,\n",
    "                                  v.year as year,\n",
    "                                  v.month as month,\n",
    "                                  v.day as day\n",
    "                              from veiculos v\n",
    "                              right join linhas l on (v.cod_linha = l.cod and l.year = v.year and l.month = v.month  and l.day = v.day)\n",
    "                                   where  l.year = year('{datareferencia}')\n",
    "                             and l.month = month('{datareferencia}')\n",
    "                             and l.day = dayofmonth('{datareferencia}')\n",
    "                            ) as l\n",
    "                          )\n",
    "                          select distinct\n",
    "                              pl.cod as cod_linha\n",
    "                             ,pl.nome\n",
    "                             ,pl.num\n",
    "                             ,pl.tipo\n",
    "                             ,pl.lat\n",
    "                             ,pl.lon\n",
    "                             ,pl.sentido as sentido_linha\n",
    "                             ,l.year\n",
    "                             ,l.month\n",
    "                             ,l.day\n",
    "                          from     pontoslinha\tpl\n",
    "                          inner join linhas l on (pl.cod = l.cod and l.year = pl.year and l.month = pl.month  and l.day = pl.day )\n",
    "     \""
   ]
  },
  {
   "cell_type": "code",
   "execution_count": 38,
   "metadata": {},
   "outputs": [
    {
     "name": "stdout",
     "output_type": "stream",
     "text": [
      "+--------------------+----+-----+---+\n",
      "|                type|year|month|day|\n",
      "+--------------------+----+-----+---+\n",
      "|     Novo mobiliario|2020|    5|  3|\n",
      "|       Placa em cano|2020|    5|  3|\n",
      "|                    |2020|    5|  3|\n",
      "|          Plataforma|2020|    5|  3|\n",
      "|               Domus|2020|    5|  3|\n",
      "|Especial Madrugueiro|2020|    5|  3|\n",
      "|       Chapeu chines|2020|    5|  3|\n",
      "|      Sem demarcac?o|2020|    5|  3|\n",
      "|              Outros|2020|    5|  3|\n",
      "|        Estac?o tubo|2020|    5|  3|\n",
      "|            Concreto|2020|    5|  3|\n",
      "|       Linha Turismo|2020|    5|  3|\n",
      "|      Fora do padr?o|2020|    5|  3|\n",
      "|      Placa em poste|2020|    5|  3|\n",
      "+--------------------+----+-----+---+\n",
      "\n"
     ]
    }
   ],
   "source": [
    "spark.read.parquet(\"/opt/work/data/trusted/busstops\").filter(f\"year =='2020' and month=='5' and day=='3'\").select(\"type\",\"year\",\"month\",\"day\").distinct().show(50)"
   ]
  },
  {
   "cell_type": "code",
   "execution_count": 42,
   "metadata": {},
   "outputs": [
    {
     "name": "stdout",
     "output_type": "stream",
     "text": [
      "+------+--------------------+----------------+----------------+--------------------+---------------+----+-----+---+\n",
      "|number|                name|        latitude|       longitude|            line_way|           type|year|month|day|\n",
      "+------+--------------------+----------------+----------------+--------------------+---------------+----+-----+---+\n",
      "|120109|R. Dom Alberto Go...|-25.413472422663|-49.281147930059|        Anti-horario|Novo mobiliario|2020|    5|  3|\n",
      "|120743|Rua Nossa Senhora...|-25.363332146707|-49.228913218922|             Alianca| Sem demarcac?o|2020|    5|  3|\n",
      "|120754|Rua Teodoro Makio...|-25.360828428536|-49.245390314447|        S?o Benedito|  Chapeu chines|2020|    5|  3|\n",
      "|140571|Rua Eduardo Coutu...|-25.463595494228|-49.226472408718|   Praca Rui Barbosa|  Chapeu chines|2020|    5|  3|\n",
      "|180323|Estrada Velha do ...|-25.497512051604| -49.34524732942|      Terminal Caiua|  Chapeu chines|2020|    5|  3|\n",
      "|180971|Rua Francisco Fri...| -25.46799192961|-49.295588911718|             Formosa|Novo mobiliario|2020|    5|  3|\n",
      "|105726|Terminal Pinheiri...|-25.512501999614|-49.295013381615|Terminal Pinheirinho|     Plataforma|2020|    5|  3|\n",
      "|180476|Rua Lenira M dos ...|-25.481587873063|-49.337613482618|          Porto Belo|  Chapeu chines|2020|    5|  3|\n",
      "|106017|Terminal Santa Fe...| -25.40062683012|-49.330711979797|Terminal Santa Fe...|     Plataforma|2020|    5|  3|\n",
      "|140948|Rua Goiania, 405 ...|-25.453615160075|-49.220742801075|           Palotinos|  Placa em cano|2020|    5|  3|\n",
      "|190633|R. Jacarezinho, 1...|-25.415440928516|-49.290074139881| Terminal Cap?o Raso|Novo mobiliario|2020|    5|  3|\n",
      "|108118|Estac?o Tubo Ante...|-25.475016633746|-49.274071283898|Terminal Sitio Ce...|   Estac?o tubo|2020|    5|  3|\n",
      "|190003|Marginal Rodovia ...|-25.430515466075|-49.329654519014|Atendimento Espec...|       Concreto|2020|    5|  3|\n",
      "|180373|Rua Angelo Marque...|-25.475835129691| -49.37570247168|Terminal Campo Co...|  Chapeu chines|2020|    5|  3|\n",
      "|190781|Rua Jo?o Azolin, ...|-25.411248508006|-49.325618923849|              Veneza| Placa em poste|2020|    5|  3|\n",
      "|108216|Estac?o Tubo Prac...|-25.436130098449|-49.274241942317|Terminal Pinheirinho|   Estac?o tubo|2020|    5|  3|\n",
      "|170413|Estrada Delegado ...|-25.631314457419|-49.351996779442|Terminal Pinheiri...|          Domus|2020|    5|  3|\n",
      "|120395|Rua Pedro Fabri, ...|-25.399598532517|-49.253348811461|Nossa Sra. de Nazare|Novo mobiliario|2020|    5|  3|\n",
      "|140534|Av. Comendador Fr...|-25.445345724999|-49.249029786533|         Vila Macedo|Novo mobiliario|2020|    5|  3|\n",
      "|160464|Rua Tijucas do Su...|-25.548221156887| -49.25973839633|Sambaqui - Ultima...|  Placa em cano|2020|    5|  3|\n",
      "+------+--------------------+----------------+----------------+--------------------+---------------+----+-----+---+\n",
      "only showing top 20 rows\n",
      "\n"
     ]
    }
   ],
   "source": [
    "spark.read.parquet(\"/opt/work/data/trusted/busstops\").filter(f\"year =='2020' and month=='5' and day=='3'\").select(\"number\",\"name\",\"latitude\",\"longitude\",\"line_way\",\"type\",\"year\",\"month\",\"day\").show()"
   ]
  },
  {
   "cell_type": "code",
   "execution_count": null,
   "metadata": {},
   "outputs": [],
   "source": []
  }
 ],
 "metadata": {
  "kernelspec": {
   "display_name": "Python 3",
   "language": "python",
   "name": "python3"
  },
  "language_info": {
   "codemirror_mode": {
    "name": "ipython",
    "version": 3
   },
   "file_extension": ".py",
   "mimetype": "text/x-python",
   "name": "python",
   "nbconvert_exporter": "python",
   "pygments_lexer": "ipython3",
   "version": "3.8.4"
  }
 },
 "nbformat": 4,
 "nbformat_minor": 4
}
