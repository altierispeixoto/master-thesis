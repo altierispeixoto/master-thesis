{
 "cells": [
  {
   "cell_type": "code",
   "execution_count": 1,
   "metadata": {},
   "outputs": [],
   "source": [
    "import pyspark.sql.functions as F\n",
    "from pyspark.sql.types import DoubleType, StringType\n",
    "\n",
    "from pyspark.conf import SparkConf\n",
    "from pyspark.sql import SQLContext\n",
    "import pyspark.sql.functions as F\n",
    "from pyspark import SparkContext"
   ]
  },
  {
   "cell_type": "code",
   "execution_count": 3,
   "metadata": {},
   "outputs": [],
   "source": [
    "conf = SparkConf().setAppName(\"App\")\n",
    "conf = (conf.setMaster('local[*]')\n",
    "                     .set('spark.executor.memory', '4G')\n",
    "                     .set('spark.driver.memory', '2G')\n",
    "                     .set('spark.driver.maxResultSize', '4G')\n",
    "                     .set('spark.sql.autoBroadcastJoinThreshold', '-1')\n",
    "                     .set(\"spark.sql.sources.partitionOverwriteMode\", \"dynamic\")\n",
    "                     )"
   ]
  },
  {
   "cell_type": "code",
   "execution_count": 4,
   "metadata": {},
   "outputs": [],
   "source": [
    "sc = SparkContext.getOrCreate(conf=conf)\n",
    "sqlContext = SQLContext(sc)"
   ]
  },
  {
   "cell_type": "code",
   "execution_count": 25,
   "metadata": {},
   "outputs": [],
   "source": [
    "#  def load_spark_sql(sqlContext):\n",
    "#         sqlContext.read.parquet(\"/opt/work/data/processed/veiculos\").registerTempTable(\"veiculos\")\n",
    "#         sqlContext.read.parquet(\"/opt/work/data/processed/linhas\").registerTempTable(\"linhas\")\n",
    "#         sqlContext.read.parquet(\"/opt/work/data/processed/pontoslinha\").registerTempTable(\"pontoslinha\")\n",
    "#         sqlContext.read.parquet(\"/opt/work/data/processed/tabelaveiculo\").registerTempTable(\"tabelaveiculo\")"
   ]
  },
  {
   "cell_type": "code",
   "execution_count": 26,
   "metadata": {},
   "outputs": [],
   "source": [
    "# load_spark_sql(sqlContext)"
   ]
  },
  {
   "cell_type": "code",
   "execution_count": 29,
   "metadata": {},
   "outputs": [],
   "source": [
    "datareferencia = '2018-08-02'"
   ]
  },
  {
   "cell_type": "code",
   "execution_count": null,
   "metadata": {},
   "outputs": [],
   "source": [
    "#date_format(unix_timestamp('dthr', 'dd/MM/yyyy HH:mm:ss').cast('timestamp'), \"yyyy-MM-dd HH:mm:ss\").alias('event_timestamp')\n",
    "\n",
    "sqlContext.read.json(\"/opt/work/data/raw/2018-08/veiculos\") \\\n",
    ".select(F.col(\"COD_LINHA\").alias(\"line_code\"), \n",
    "        F.date_format(F.unix_timestamp('dthr', 'dd/MM/yyyy HH:mm:ss').cast('timestamp'), \"yyyy-MM-dd HH:mm:ss\").alias('event_timestamp'),\n",
    "        F.col(\"LAT\").cast('double').alias(\"latitude\"),\n",
    "        F.col(\"LON\").cast('double').alias(\"longitude\"),\n",
    "        F.col(\"VEIC\").alias(\"vehicle\")\n",
    "       )\\\n",
    "        .withColumn(\"year\", F.year(\"event_timestamp\")) \\\n",
    "        .withColumn(\"month\", F.month(\"event_timestamp\")) \\\n",
    "        .withColumn(\"day\", F.dayofmonth(\"event_timestamp\")).dropDuplicates() \\\n",
    "        .write.mode('overwrite') \\\n",
    "        .partitionBy(\"year\", \"month\", \"day\") \\\n",
    "        .format(\"parquet\") \\\n",
    "        .save(\"/opt/work/data/trusted/veiculos\")"
   ]
  },
  {
   "cell_type": "code",
   "execution_count": 48,
   "metadata": {},
   "outputs": [
    {
     "data": {
      "text/plain": [
       "11920801"
      ]
     },
     "execution_count": 48,
     "metadata": {},
     "output_type": "execute_result"
    }
   ],
   "source": [
    "sqlContext.read.json(\"/opt/work/data/raw/2018-08/veiculos\") \\\n",
    ".select(F.col(\"COD_LINHA\").alias(\"line_code\"), \n",
    "        F.date_format(F.unix_timestamp('dthr', 'dd/MM/yyyy HH:mm:ss').cast('timestamp'), \"yyyy-MM-dd HH:mm:ss\").alias('event_timestamp'),\n",
    "        F.col(\"LAT\").alias(\"latitude\"),\n",
    "        F.col(\"LON\").alias(\"longitude\"),\n",
    "        F.col(\"VEIC\").alias(\"vehicle\")\n",
    "       ).distinct().count()"
   ]
  },
  {
   "cell_type": "code",
   "execution_count": null,
   "metadata": {},
   "outputs": [],
   "source": []
  }
 ],
 "metadata": {
  "kernelspec": {
   "display_name": "Python 3",
   "language": "python",
   "name": "python3"
  },
  "language_info": {
   "codemirror_mode": {
    "name": "ipython",
    "version": 3
   },
   "file_extension": ".py",
   "mimetype": "text/x-python",
   "name": "python",
   "nbconvert_exporter": "python",
   "pygments_lexer": "ipython3",
   "version": "3.7.6"
  }
 },
 "nbformat": 4,
 "nbformat_minor": 4
}
