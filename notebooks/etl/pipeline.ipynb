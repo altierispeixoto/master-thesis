{
 "cells": [
  {
   "cell_type": "code",
   "execution_count": 1,
   "metadata": {},
   "outputs": [],
   "source": [
    "from dataprocessing.processors.refined_ingestion import TrackingDataRefinedProcess, TimetableRefinedProcess, BusStopRefinedProcess, LineRefinedProcess\n",
    "from dataprocessing.processors.trust_ingestion import TrustProcessing\n",
    "\n",
    "from pyspark.sql import functions as F, types as T\n",
    "from pyspark.sql.window import Window"
   ]
  },
  {
   "cell_type": "code",
   "execution_count": 2,
   "metadata": {},
   "outputs": [],
   "source": [
    "# from dataprocessing.processors.sparketl import ETLSpark\n",
    "\n",
    "# etl_spark = ETLSpark()\n",
    "\n",
    "# df = etl_spark.sqlContext.read.parquet(\"/data/trusted/vehicles\").withColumn(\"hour\", F.hour(F.col(\"event_timestamp\"))).sort(F.asc(\"event_timestamp\"))"
   ]
  },
  {
   "cell_type": "code",
   "execution_count": 13,
   "metadata": {},
   "outputs": [
    {
     "name": "stdout",
     "output_type": "stream",
     "text": [
      "FILE: Column<b'input_file_name()'>\n",
      "FILE: Column<b'input_file_name()'>\n",
      "FILE: Column<b'input_file_name()'>\n",
      "CPU times: user 42.7 ms, sys: 13.6 ms, total: 56.3 ms\n",
      "Wall time: 37.6 s\n"
     ]
    }
   ],
   "source": [
    "%%time\n",
    "TrustProcessing(\"2019-05\")()"
   ]
  },
  {
   "cell_type": "code",
   "execution_count": 3,
   "metadata": {},
   "outputs": [
    {
     "name": "stdout",
     "output_type": "stream",
     "text": [
      "CPU times: user 1.18 s, sys: 495 ms, total: 1.67 s\n",
      "Wall time: 5min 21s\n"
     ]
    }
   ],
   "source": [
    "%%time\n",
    "LineRefinedProcess(2019,5,6)()\n",
    "TimetableRefinedProcess(2019,5,6)()\n",
    "BusStopRefinedProcess(2019,5,6)()\n",
    "TrackingDataRefinedProcess(2019,5,6)()"
   ]
  },
  {
   "cell_type": "markdown",
   "metadata": {},
   "source": [
    "## AREA 51"
   ]
  },
  {
   "cell_type": "code",
   "execution_count": 3,
   "metadata": {},
   "outputs": [],
   "source": [
    "trd = TrackingDataRefinedProcess(2019,5,2)\n",
    "\n",
    "vehicles = trd.compute_metrics()\n",
    "\n",
    "stop_events = trd.stop_events(vehicles)"
   ]
  },
  {
   "cell_type": "code",
   "execution_count": 4,
   "metadata": {},
   "outputs": [
    {
     "name": "stdout",
     "output_type": "stream",
     "text": [
      "+---------+--------+-------+-------------+-------------------+----------+----------+------------+----+-----+---+----+\n",
      "|line_code|line_way|vehicle|moving_status|     stop_timestamp|  latitude| longitude|avg_velocity|year|month|day|hour|\n",
      "+---------+--------+-------+-------------+-------------------+----------+----------+------------+----+-----+---+----+\n",
      "|      001| Horario|  BN997|      STOPPED|2019-05-02 06:21:00|-25.427685|-49.264708|        9.83|2019|    5|  2|   6|\n",
      "|      001| Horario|  BN997|      STOPPED|2019-05-02 06:23:24|-25.432431|-49.262705|         6.0|2019|    5|  2|   6|\n",
      "|      001| Horario|  BN997|      STOPPED|2019-05-02 06:24:07|-25.433933| -49.26203|        7.18|2019|    5|  2|   6|\n",
      "|      001| Horario|  BN997|      STOPPED|2019-05-02 06:25:13| -25.43442|-49.262871|         7.2|2019|    5|  2|   6|\n",
      "|      001| Horario|  BN997|      STOPPED|2019-05-02 06:27:33|-25.436813|-49.268886|        7.82|2019|    5|  2|   6|\n",
      "|      001| Horario|  BN997|      STOPPED|2019-05-02 06:29:24|-25.437991| -49.27277|        4.93|2019|    5|  2|   6|\n",
      "|      001| Horario|  BN997|      STOPPED|2019-05-02 06:30:05|-25.436583|-49.273393|        9.86|2019|    5|  2|   6|\n",
      "|      001| Horario|  BN997|      STOPPED|2019-05-02 06:31:03|-25.435511|-49.274956|        9.37|2019|    5|  2|   6|\n",
      "|      001| Horario|  BN997|      STOPPED|2019-05-02 06:32:16|-25.433265|-49.277518|        6.95|2019|    5|  2|   6|\n",
      "|      001| Horario|  BN997|      STOPPED|2019-05-02 06:33:16|-25.432041|-49.276963|        9.69|2019|    5|  2|   6|\n",
      "|      001| Horario|  BN997|      STOPPED|2019-05-02 06:34:32|-25.431093|-49.277158|        5.58|2019|    5|  2|   6|\n",
      "|      001| Horario|  BN997|      STOPPED|2019-05-02 06:35:31| -25.42992|-49.273623|         2.8|2019|    5|  2|   6|\n",
      "|      001| Horario|  BN997|      STOPPED|2019-05-02 06:36:01|-25.429838|-49.273438|        2.76|2019|    5|  2|   6|\n",
      "|      001| Horario|  BN997|      STOPPED|2019-05-02 06:37:34|-25.430253|  -49.2722|        4.81|2019|    5|  2|   6|\n",
      "|      001| Horario|  BN997|      STOPPED|2019-05-02 06:39:03| -25.42858| -49.26706|        6.14|2019|    5|  2|   6|\n",
      "|      001| Horario|  BN997|      STOPPED|2019-05-02 06:41:33|-25.428575|-49.267253|         5.6|2019|    5|  2|   6|\n",
      "|      001| Horario|  BN997|      STOPPED|2019-05-02 06:43:41|-25.428686|-49.266971|        0.53|2019|    5|  2|   6|\n",
      "|      001| Horario|  BN997|      STOPPED|2019-05-02 06:46:19| -25.42855|-49.267055|        0.71|2019|    5|  2|   6|\n",
      "|      001| Horario|  BN997|      STOPPED|2019-05-02 06:47:16|-25.428003|-49.265753|        1.83|2019|    5|  2|   6|\n",
      "|      001| Horario|  BN997|      STOPPED|2019-05-02 06:48:10|-25.428098| -49.26438|        6.06|2019|    5|  2|   6|\n",
      "|      001| Horario|  BN997|      STOPPED|2019-05-02 06:50:04|-25.432323|-49.262748|         7.0|2019|    5|  2|   6|\n",
      "|      001| Horario|  BN997|      STOPPED|2019-05-02 06:51:32|-25.433805|-49.262025|        3.03|2019|    5|  2|   6|\n",
      "|      001| Horario|  BN997|      STOPPED|2019-05-02 06:52:03| -25.43442| -49.26282|       10.14|2019|    5|  2|   6|\n",
      "|      001| Horario|  BN997|      STOPPED|2019-05-02 06:53:42|-25.435423|-49.265283|        6.36|2019|    5|  2|   6|\n",
      "|      001| Horario|  BN997|      STOPPED|2019-05-02 06:55:30| -25.43709|-49.268828|        2.45|2019|    5|  2|   6|\n",
      "|      001| Horario|  BN997|      STOPPED|2019-05-02 06:59:05|-25.438023|-49.272815|        6.33|2019|    5|  2|   6|\n",
      "|      001| Horario|  BN997|      STOPPED|2019-05-02 07:00:11|-25.435585| -49.27499|        8.93|2019|    5|  2|   7|\n",
      "|      001| Horario|  BN997|      STOPPED|2019-05-02 07:00:11|-25.435585| -49.27499|       11.23|2019|    5|  2|   7|\n",
      "|      001| Horario|  BN997|      STOPPED|2019-05-02 07:01:16|-25.433461|-49.277463|        7.94|2019|    5|  2|   7|\n",
      "|      001| Horario|  BN997|      STOPPED|2019-05-02 07:02:35|-25.432003|-49.277026|        8.18|2019|    5|  2|   7|\n",
      "|      001| Horario|  BN997|      STOPPED|2019-05-02 07:03:42|-25.430588|-49.275795|        8.43|2019|    5|  2|   7|\n",
      "|      001| Horario|  BN997|      STOPPED|2019-05-02 07:04:05|-25.430638|-49.275565|         7.1|2019|    5|  2|   7|\n",
      "|      001| Horario|  BN997|      STOPPED|2019-05-02 07:05:53|-25.430178|-49.272668|        6.41|2019|    5|  2|   7|\n",
      "|      001| Horario|  BN997|      STOPPED|2019-05-02 07:06:03|-25.430286|-49.272345|        7.19|2019|    5|  2|   7|\n",
      "|      001| Horario|  BN997|      STOPPED|2019-05-02 07:07:49|-25.428608|-49.267266|       14.14|2019|    5|  2|   7|\n",
      "|      001| Horario|  BN997|      STOPPED|2019-05-02 07:08:16|-25.428616|-49.267285|        7.63|2019|    5|  2|   7|\n",
      "|      001| Horario|  BN997|      STOPPED|2019-05-02 07:10:29|-25.428571|-49.267248|        0.23|2019|    5|  2|   7|\n",
      "|      001| Horario|  BN997|      STOPPED|2019-05-02 07:12:11|-25.428496|-49.267056|        0.46|2019|    5|  2|   7|\n",
      "|      001| Horario|  BN997|      STOPPED|2019-05-02 07:13:02|-25.427685|-49.265098|        3.88|2019|    5|  2|   7|\n",
      "|      001| Horario|  BN997|      STOPPED|2019-05-02 07:16:15|-25.432938|-49.262383|        9.38|2019|    5|  2|   7|\n",
      "|      001| Horario|  BN997|      STOPPED|2019-05-02 07:18:43|-25.436488|-49.267998|        7.06|2019|    5|  2|   7|\n",
      "|      001| Horario|  BN997|      STOPPED|2019-05-02 07:19:59|-25.437991|-49.272855|         8.5|2019|    5|  2|   7|\n",
      "|      001| Horario|  BN997|      STOPPED|2019-05-02 07:20:23|-25.436905|-49.273426|       13.56|2019|    5|  2|   7|\n",
      "|      001| Horario|  BN997|      STOPPED|2019-05-02 07:21:32|-25.435588|-49.274975|        9.89|2019|    5|  2|   7|\n",
      "|      001| Horario|  BN997|      STOPPED|2019-05-02 07:22:17|-25.434416| -49.27688|       10.13|2019|    5|  2|   7|\n",
      "|      001| Horario|  BN997|      STOPPED|2019-05-02 07:23:04|-25.434125|-49.276905|        7.57|2019|    5|  2|   7|\n",
      "|      001| Horario|  BN997|      STOPPED|2019-05-02 07:25:14|-25.431781|-49.277105|        8.17|2019|    5|  2|   7|\n",
      "|      001| Horario|  BN997|      STOPPED|2019-05-02 07:26:19|-25.431128|-49.277311|        4.49|2019|    5|  2|   7|\n",
      "|      001| Horario|  BN997|      STOPPED|2019-05-02 07:27:18|-25.429578|-49.272576|        8.27|2019|    5|  2|   7|\n",
      "|      001| Horario|  BN997|      STOPPED|2019-05-02 07:28:35|-25.430215|-49.272158|        9.06|2019|    5|  2|   7|\n",
      "+---------+--------+-------+-------------+-------------------+----------+----------+------------+----+-----+---+----+\n",
      "only showing top 50 rows\n",
      "\n"
     ]
    }
   ],
   "source": [
    "stop_events.filter(\"vehicle = 'BN997'\").sort(F.asc(\"stop_timestamp\")).show(50)"
   ]
  },
  {
   "cell_type": "code",
   "execution_count": 5,
   "metadata": {},
   "outputs": [],
   "source": [
    "bus_event_edges = trd.event_edges(vehicles)\n",
    "\n",
    "events = trd.process_events(stop_events, bus_event_edges)"
   ]
  },
  {
   "cell_type": "code",
   "execution_count": 9,
   "metadata": {},
   "outputs": [],
   "source": [
    "events.filter(\"vehicle = 'BN997'\").sort(F.asc(\"event_timestamp\")).toPandas().to_csv(\"events.csv\",index=False)"
   ]
  },
  {
   "cell_type": "code",
   "execution_count": 7,
   "metadata": {},
   "outputs": [
    {
     "data": {
      "text/plain": [
       "499691"
      ]
     },
     "execution_count": 7,
     "metadata": {},
     "output_type": "execute_result"
    }
   ],
   "source": [
    "events.count()"
   ]
  },
  {
   "cell_type": "code",
   "execution_count": null,
   "metadata": {},
   "outputs": [],
   "source": []
  }
 ],
 "metadata": {
  "kernelspec": {
   "display_name": "Python 3",
   "language": "python",
   "name": "python3"
  },
  "language_info": {
   "codemirror_mode": {
    "name": "ipython",
    "version": 3
   },
   "file_extension": ".py",
   "mimetype": "text/x-python",
   "name": "python",
   "nbconvert_exporter": "python",
   "pygments_lexer": "ipython3",
   "version": "3.7.6"
  }
 },
 "nbformat": 4,
 "nbformat_minor": 4
}
