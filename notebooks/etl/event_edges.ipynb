{
 "cells": [
  {
   "cell_type": "code",
   "execution_count": 1,
   "metadata": {},
   "outputs": [],
   "source": [
    "from dataprocessing.processors.refined_ingestion import TrackingDataRefinedProcess, TimetableRefinedProcess, BusStopRefinedProcess, haversine\n",
    "from pyspark.sql import functions as F, types as T\n",
    "from pyspark.sql.window import Window"
   ]
  },
  {
   "cell_type": "code",
   "execution_count": 2,
   "metadata": {},
   "outputs": [],
   "source": [
    "# from dataprocessing.processors.sparketl import ETLSpark\n",
    "\n",
    "# etl_spark = ETLSpark()\n",
    "\n",
    "# df = etl_spark.sqlContext.read.parquet(\"/data/trusted/vehicles\").withColumn(\"hour\", F.hour(F.col(\"event_timestamp\"))).sort(F.asc(\"event_timestamp\"))"
   ]
  },
  {
   "cell_type": "code",
   "execution_count": 33,
   "metadata": {},
   "outputs": [
    {
     "name": "stdout",
     "output_type": "stream",
     "text": [
      "CPU times: user 42 ms, sys: 4.91 ms, total: 47 ms\n",
      "Wall time: 407 ms\n"
     ]
    }
   ],
   "source": [
    "%%time\n",
    "tracking_data = TrackingDataRefinedProcess(2020,5,3)"
   ]
  },
  {
   "cell_type": "code",
   "execution_count": 12,
   "metadata": {},
   "outputs": [],
   "source": [
    "tracking_data.df = tracking_data.df.filter(\"line_code = 561 and vehicle = 'EA210'\")"
   ]
  },
  {
   "cell_type": "code",
   "execution_count": 34,
   "metadata": {},
   "outputs": [],
   "source": [
    "events_computed = tracking_data.compute_metrics()"
   ]
  },
  {
   "cell_type": "code",
   "execution_count": 14,
   "metadata": {},
   "outputs": [],
   "source": [
    "stop_events = tracking_data.stop_events(events_computed)"
   ]
  },
  {
   "cell_type": "code",
   "execution_count": 15,
   "metadata": {},
   "outputs": [],
   "source": [
    "event_edges =  tracking_data.event_edges(events_computed)"
   ]
  },
  {
   "cell_type": "code",
   "execution_count": 16,
   "metadata": {},
   "outputs": [],
   "source": [
    "dff = tracking_data.process_events(stop_events,event_edges)"
   ]
  },
  {
   "cell_type": "code",
   "execution_count": 19,
   "metadata": {},
   "outputs": [],
   "source": []
  },
  {
   "cell_type": "code",
   "execution_count": 20,
   "metadata": {},
   "outputs": [],
   "source": [
    "pdf.to_csv(\"sample_events.csv\",index=False)"
   ]
  },
  {
   "cell_type": "code",
   "execution_count": 24,
   "metadata": {},
   "outputs": [],
   "source": [
    "from dataprocessing.processors.sparketl import ETLSpark\n",
    "\n",
    "etl_spark = ETLSpark()\n",
    "\n",
    "df = etl_spark.sqlContext.read.option(\"header\",\"true\").csv(\"/data/refined/events\")"
   ]
  },
  {
   "cell_type": "code",
   "execution_count": 25,
   "metadata": {},
   "outputs": [
    {
     "name": "stdout",
     "output_type": "stream",
     "text": [
      "+---------+------------------+-------+-------------+-------------------+----------+----------+------------+----+----+-----+---+\n",
      "|line_code|          line_way|vehicle|moving_status|    event_timestamp|  latitude| longitude|avg_velocity|hour|year|month|day|\n",
      "+---------+------------------+-------+-------------+-------------------+----------+----------+------------+----+----+-----+---+\n",
      "|      222|Terminal Boa Vista|  CI002|      STOPPED|2020-05-03 05:21:10|-25.382503|-49.196763|       14.46|   5|2020|    5|  3|\n",
      "|      222|Terminal Boa Vista|  CI002|      STOPPED|2020-05-03 05:23:02|-25.384511|   -49.202|       10.47|   5|2020|    5|  3|\n",
      "|      222|Terminal Boa Vista|  CI002|      STOPPED|2020-05-03 05:25:59|-25.388048|-49.211428|        9.34|   5|2020|    5|  3|\n",
      "|      222|Terminal Boa Vista|  CI002|      STOPPED|2020-05-03 05:37:23|-25.393095|-49.241245|        5.76|   5|2020|    5|  3|\n",
      "|      222|    Vila Esperanca|  CI002|      STOPPED|2020-05-03 05:42:24|-25.393053|-49.241345|        0.17|   5|2020|    5|  3|\n",
      "|      222|    Vila Esperanca|  CI002|      STOPPED|2020-05-03 05:43:35|-25.394688|-49.239946|        7.35|   5|2020|    5|  3|\n",
      "|      222|    Vila Esperanca|  CI002|      STOPPED|2020-05-03 05:44:54|-25.398966|-49.236195|         9.4|   5|2020|    5|  3|\n",
      "|      222|    Vila Esperanca|  CI002|      STOPPED|2020-05-03 05:48:53|-25.387816| -49.22132|       11.74|   5|2020|    5|  3|\n",
      "|      222|    Vila Esperanca|  CI002|      STOPPED|2020-05-03 05:50:09|-25.387098|-49.216505|       11.95|   5|2020|    5|  3|\n",
      "|      222|    Vila Esperanca|  CI002|      STOPPED|2020-05-03 05:52:45| -25.38453|-49.204568|       13.08|   5|2020|    5|  3|\n",
      "|      222|    Vila Esperanca|  CI002|      STOPPED|2020-05-03 05:56:19|-25.384938|-49.195605|       12.87|   5|2020|    5|  3|\n",
      "|      222|Terminal Boa Vista|  CI002|      STOPPED|2020-05-03 06:00:21|-25.384661|-49.195591|       14.21|   6|2020|    5|  3|\n",
      "|      222|Terminal Boa Vista|  CI002|      STOPPED|2020-05-03 06:00:21|-25.384661|-49.195591|        0.46|   6|2020|    5|  3|\n",
      "|      222|Terminal Boa Vista|  CI002|      STOPPED|2020-05-03 06:01:18|-25.382475|-49.196678|        7.59|   6|2020|    5|  3|\n",
      "|      222|Terminal Boa Vista|  CI002|      STOPPED|2020-05-03 06:02:16|-25.382893| -49.19877|       10.58|   6|2020|    5|  3|\n",
      "|      222|Terminal Boa Vista|  CI002|      STOPPED|2020-05-03 06:03:26|-25.384635|-49.202215|         9.9|   6|2020|    5|  3|\n",
      "|      222|Terminal Boa Vista|  CI002|      STOPPED|2020-05-03 06:06:26|-25.388028|-49.211438|        9.38|   6|2020|    5|  3|\n",
      "|      222|Terminal Boa Vista|  CI002|      STOPPED|2020-05-03 06:13:01|-25.394393|-49.240231|        3.34|   6|2020|    5|  3|\n",
      "|      222|Terminal Boa Vista|  CI002|      STOPPED|2020-05-03 06:14:04|-25.393713|   -49.241|        3.09|   6|2020|    5|  3|\n",
      "|      222|Terminal Boa Vista|  CI002|      STOPPED|2020-05-03 06:19:24|-25.393093|-49.241236|        4.87|   6|2020|    5|  3|\n",
      "+---------+------------------+-------+-------------+-------------------+----------+----------+------------+----+----+-----+---+\n",
      "only showing top 20 rows\n",
      "\n"
     ]
    }
   ],
   "source": [
    "df.show()"
   ]
  },
  {
   "cell_type": "code",
   "execution_count": 26,
   "metadata": {},
   "outputs": [],
   "source": [
    "pdf = df.toPandas()\n",
    "pdf.to_csv(\"sample_events.csv\",index=False)"
   ]
  },
  {
   "cell_type": "code",
   "execution_count": 31,
   "metadata": {},
   "outputs": [
    {
     "name": "stdout",
     "output_type": "stream",
     "text": [
      "+---------+--------------+\n",
      "|line_code|count(vehicle)|\n",
      "+---------+--------------+\n",
      "|      870|             1|\n",
      "|      307|             3|\n",
      "|      475|             1|\n",
      "|      205|             2|\n",
      "|      272|             1|\n",
      "|      462|             2|\n",
      "|      470|             1|\n",
      "|      711|             1|\n",
      "|      635|             1|\n",
      "|      625|             1|\n",
      "+---------+--------------+\n",
      "only showing top 10 rows\n",
      "\n"
     ]
    }
   ],
   "source": [
    "df.select(\"line_code\",\"vehicle\").distinct().groupBy(\"line_code\").agg(F.count(\"vehicle\")).show(10)"
   ]
  },
  {
   "cell_type": "code",
   "execution_count": 35,
   "metadata": {},
   "outputs": [
    {
     "name": "stdout",
     "output_type": "stream",
     "text": [
      "+---------+--------------+\n",
      "|line_code|count(vehicle)|\n",
      "+---------+--------------+\n",
      "|      870|             1|\n",
      "|      307|             3|\n",
      "|      475|             1|\n",
      "|      205|             2|\n",
      "|      272|             1|\n",
      "|      462|             2|\n",
      "|      470|             1|\n",
      "|      711|             1|\n",
      "|      635|             1|\n",
      "|      625|             1|\n",
      "+---------+--------------+\n",
      "only showing top 10 rows\n",
      "\n"
     ]
    }
   ],
   "source": [
    "events_computed.select(\"line_code\",\"vehicle\").distinct().groupBy(\"line_code\").agg(F.count(\"vehicle\")).show(10)"
   ]
  },
  {
   "cell_type": "code",
   "execution_count": null,
   "metadata": {},
   "outputs": [],
   "source": []
  }
 ],
 "metadata": {
  "kernelspec": {
   "display_name": "Python 3",
   "language": "python",
   "name": "python3"
  },
  "language_info": {
   "codemirror_mode": {
    "name": "ipython",
    "version": 3
   },
   "file_extension": ".py",
   "mimetype": "text/x-python",
   "name": "python",
   "nbconvert_exporter": "python",
   "pygments_lexer": "ipython3",
   "version": "3.7.6"
  }
 },
 "nbformat": 4,
 "nbformat_minor": 4
}
