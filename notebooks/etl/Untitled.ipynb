{
 "cells": [
  {
   "cell_type": "code",
   "execution_count": 1,
   "metadata": {},
   "outputs": [],
   "source": [
    "from dataprocessing.processors.refined_ingestion import TrackingDataRefinedProcess, TimetableRefinedProcess, BusStopRefinedProcess, haversine\n",
    "from pyspark.sql import functions as F, types as T\n",
    "from pyspark.sql.window import Window"
   ]
  },
  {
   "cell_type": "code",
   "execution_count": 2,
   "metadata": {},
   "outputs": [],
   "source": [
    "# from dataprocessing.processors.sparketl import ETLSpark\n",
    "\n",
    "# etl_spark = ETLSpark()\n",
    "\n",
    "# df = etl_spark.sqlContext.read.parquet(\"/data/trusted/vehicles\").withColumn(\"hour\", F.hour(F.col(\"event_timestamp\"))).sort(F.asc(\"event_timestamp\"))"
   ]
  },
  {
   "cell_type": "code",
   "execution_count": 3,
   "metadata": {},
   "outputs": [],
   "source": [
    "tracking_data = TrackingDataRefinedProcess(2020,5,3)"
   ]
  },
  {
   "cell_type": "code",
   "execution_count": 4,
   "metadata": {},
   "outputs": [
    {
     "data": {
      "text/plain": [
       "931661"
      ]
     },
     "execution_count": 4,
     "metadata": {},
     "output_type": "execute_result"
    }
   ],
   "source": [
    "tracking_data.df.count()"
   ]
  },
  {
   "cell_type": "code",
   "execution_count": 5,
   "metadata": {},
   "outputs": [],
   "source": [
    "tracking_data.df = tracking_data.df.filter(\"line_code = 561 and vehicle = 'EA210'\")"
   ]
  },
  {
   "cell_type": "code",
   "execution_count": 6,
   "metadata": {},
   "outputs": [],
   "source": [
    "events = tracking_data.compute_metrics()"
   ]
  },
  {
   "cell_type": "code",
   "execution_count": 7,
   "metadata": {},
   "outputs": [],
   "source": [
    "stop_events = tracking_data.stop_events(events)"
   ]
  },
  {
   "cell_type": "code",
   "execution_count": 8,
   "metadata": {},
   "outputs": [
    {
     "name": "stdout",
     "output_type": "stream",
     "text": [
      "+---------+-------+-------------------+----------+----------+------------+--------+----+-----+---+----+\n",
      "|line_code|vehicle|     stop_timestamp|  latitude| longitude|avg_velocity|distance|year|month|day|hour|\n",
      "+---------+-------+-------------------+----------+----------+------------+--------+----+-----+---+----+\n",
      "|      561|  EA210|2020-05-03 06:23:48|-25.473771|-49.262943|       42.23| 2245.67|2020|    5|  3|   6|\n",
      "|      561|  EA210|2020-05-03 06:25:47|-25.467953|-49.262276|       30.79| 1047.65|2020|    5|  3|   6|\n",
      "|      561|  EA210|2020-05-03 06:26:10| -25.46767|-49.261583|       14.74|   84.26|2020|    5|  3|   6|\n",
      "|      561|  EA210|2020-05-03 06:27:14|-25.464385|-49.259098|       34.45|  669.03|2020|    5|  3|   6|\n",
      "|      561|  EA210|2020-05-03 06:28:28|-25.459136|-49.262753|       33.45|   802.6|2020|    5|  3|   6|\n",
      "|      561|  EA210|2020-05-03 06:30:23|-25.446936|-49.268555|       43.41| 1486.36|2020|    5|  3|   6|\n",
      "|      561|  EA210|2020-05-03 06:31:50| -25.44261|-49.270625|       27.52|  529.34|2020|    5|  3|   6|\n",
      "|      561|  EA210|2020-05-03 06:32:55|-25.436581|-49.273438|        36.1|  752.81|2020|    5|  3|   6|\n",
      "|      561|  EA210|2020-05-03 06:33:21|-25.435811|-49.274501|       22.16|  208.97|2020|    5|  3|   6|\n",
      "|      561|  EA210|2020-05-03 06:38:38| -25.43536| -49.27375|        17.9|  134.37|2020|    5|  3|   6|\n",
      "|      561|  EA210|2020-05-03 06:43:39| -25.43531|-49.273763|        0.07|   11.31|2020|    5|  3|   6|\n",
      "|      561|  EA210|2020-05-03 06:48:40|-25.435368| -49.27375|        0.08|   12.29|2020|    5|  3|   6|\n",
      "|      561|  EA210|2020-05-03 06:49:47|-25.435253|-49.273606|        0.56|   25.88|2020|    5|  3|   6|\n",
      "|      561|  EA210|2020-05-03 06:50:48|-25.436011|-49.271345|       21.98|  349.86|2020|    5|  3|   6|\n",
      "|      561|  EA210|2020-05-03 06:51:14| -25.43871|-49.269981|       31.99|  366.88|2020|    5|  3|   6|\n",
      "|      561|  EA210|2020-05-03 06:52:03|-25.438918|-49.269931|        7.06|   30.54|2020|    5|  3|   6|\n",
      "|      561|  EA210|2020-05-03 06:53:46|-25.446296|-49.266625|       34.84|  910.54|2020|    5|  3|   6|\n",
      "|      561|  EA210|2020-05-03 06:56:39| -25.45946|-49.263515|       37.73| 1672.69|2020|    5|  3|   6|\n",
      "|      561|  EA210|2020-05-03 06:58:32|-25.466336| -49.25826|       35.53| 1146.16|2020|    5|  3|   6|\n",
      "|      561|  EA210|2020-05-03 06:59:12|  -25.4678|-49.261918|       37.05|  433.03|2020|    5|  3|   6|\n",
      "+---------+-------+-------------------+----------+----------+------------+--------+----+-----+---+----+\n",
      "only showing top 20 rows\n",
      "\n"
     ]
    }
   ],
   "source": [
    "stop_events.show()"
   ]
  },
  {
   "cell_type": "code",
   "execution_count": 7,
   "metadata": {},
   "outputs": [],
   "source": [
    "event_edges = tracking_data.event_edges(events)"
   ]
  },
  {
   "cell_type": "code",
   "execution_count": 8,
   "metadata": {},
   "outputs": [
    {
     "name": "stdout",
     "output_type": "stream",
     "text": [
      "root\n",
      " |-- line_code: string (nullable = true)\n",
      " |-- line_way: string (nullable = true)\n",
      " |-- vehicle: string (nullable = true)\n",
      " |-- year: integer (nullable = true)\n",
      " |-- month: integer (nullable = true)\n",
      " |-- day: integer (nullable = true)\n",
      " |-- hour: integer (nullable = true)\n",
      " |-- minute: integer (nullable = true)\n",
      " |-- moving_status: string (nullable = true)\n",
      " |-- number: string (nullable = true)\n",
      " |-- name: string (nullable = true)\n",
      " |-- avg_velocity: double (nullable = true)\n",
      " |-- event_timestamp: string (nullable = true)\n",
      " |-- latitude: double (nullable = true)\n",
      " |-- longitude: double (nullable = true)\n",
      " |-- event_time: string (nullable = true)\n",
      "\n"
     ]
    }
   ],
   "source": [
    "event_edges.printSchema()"
   ]
  },
  {
   "cell_type": "code",
   "execution_count": 9,
   "metadata": {},
   "outputs": [
    {
     "data": {
      "text/plain": [
       "596"
      ]
     },
     "execution_count": 9,
     "metadata": {},
     "output_type": "execute_result"
    }
   ],
   "source": [
    "event_edges.count()"
   ]
  },
  {
   "cell_type": "code",
   "execution_count": 10,
   "metadata": {},
   "outputs": [
    {
     "name": "stdout",
     "output_type": "stream",
     "text": [
      "+---------+-----------------+-------+----+-----+---+----+------+-------------+------+--------------------+------------+-------------------+----------+----------+----------+\n",
      "|line_code|         line_way|vehicle|year|month|day|hour|minute|moving_status|number|                name|avg_velocity|    event_timestamp|  latitude| longitude|event_time|\n",
      "+---------+-----------------+-------+----+-----+---+----+------+-------------+------+--------------------+------------+-------------------+----------+----------+----------+\n",
      "|      561|Praca Rui Barbosa|  EA210|2020|    5|  3|   6|    20|       MOVING|150629|Rua Jose Taschner...|       31.72|2020-05-03 06:20:36|-25.488616|-49.275056|  06:20:36|\n",
      "|      561|Praca Rui Barbosa|  EA210|2020|    5|  3|   6|    21|       MOVING|150285|Rua Maestro Franc...|       57.61|2020-05-03 06:21:34|-25.484915|-49.271936|  06:21:34|\n",
      "|      561|Praca Rui Barbosa|  EA210|2020|    5|  3|   6|    21|       MOVING|150168|Rua Maestro Franc...|       50.76|2020-05-03 06:21:50| -25.48316|-49.270521|  06:21:50|\n",
      "|      561|Praca Rui Barbosa|  EA210|2020|    5|  3|   6|    22|       MOVING|150165|Rua Maestro Franc...|       58.07|2020-05-03 06:22:12|-25.480601|-49.268456|  06:22:12|\n",
      "|      561|Praca Rui Barbosa|  EA210|2020|    5|  3|   6|    22|       MOVING|150287|Rua Maestro Franc...|       51.89|2020-05-03 06:22:45|-25.477548|-49.266003|  06:22:45|\n",
      "|      561|Praca Rui Barbosa|  EA210|2020|    5|  3|   6|    23|       MOVING|150289|Rua Maestro Franc...|       51.84|2020-05-03 06:23:00| -25.47598|-49.264736|  06:23:00|\n",
      "|      561|Praca Rui Barbosa|  EA210|2020|    5|  3|   6|    23|       MOVING|150291|Rua Maestro Franc...|       24.63|2020-05-03 06:23:35|-25.473948|-49.263071|  06:23:35|\n",
      "|      561|Praca Rui Barbosa|  EA210|2020|    5|  3|   6|    23|      STOPPED|150291|Rua Maestro Franc...|        6.51|2020-05-03 06:23:48|-25.473771|-49.262943|  06:23:48|\n",
      "|      561|Praca Rui Barbosa|  EA210|2020|    5|  3|   6|    24|       MOVING|150493|Rua Antonio Barri...|       17.86|2020-05-03 06:24:38|  -25.4726|-49.260756|  06:24:38|\n",
      "|      561|Praca Rui Barbosa|  EA210|2020|    5|  3|   6|    24|       MOVING|150494|Rua Antonio Melil...|       49.18|2020-05-03 06:24:57|-25.471135|-49.262265|  06:24:57|\n",
      "|      561|Praca Rui Barbosa|  EA210|2020|    5|  3|   6|    25|       MOVING|150626|Rua Anselmo Camat...|       27.26|2020-05-03 06:25:27| -25.46927|-49.261636|  06:25:27|\n",
      "|      561|Praca Rui Barbosa|  EA210|2020|    5|  3|   6|    25|       MOVING|150625|Rua Prof. Leonida...|      18.975|2020-05-03 06:25:56|-25.467758|-49.261836|  06:25:56|\n",
      "|      561|Praca Rui Barbosa|  EA210|2020|    5|  3|   6|    26|      STOPPED|150625|Rua Prof. Leonida...|         7.0|2020-05-03 06:26:10| -25.46767|-49.261583|  06:26:10|\n",
      "|      561|Praca Rui Barbosa|  EA210|2020|    5|  3|   6|    27|       MOVING|150621|Rua Doutor Pamfil...|       39.23|2020-05-03 06:27:06|-25.464448|-49.258806|  06:27:06|\n",
      "|      561|Praca Rui Barbosa|  EA210|2020|    5|  3|   6|    27|       MOVING|150620|Rua Alferes Poli,...|        24.4|2020-05-03 06:27:31|-25.464361|-49.259978|  06:27:31|\n",
      "|      561|Praca Rui Barbosa|  EA210|2020|    5|  3|   6|    27|       MOVING|150617|Rua Alferes Poli,...|       36.33|2020-05-03 06:27:46|-25.462888|-49.260696|  06:27:46|\n",
      "|      561|Praca Rui Barbosa|  EA210|2020|    5|  3|   6|    28|      STOPPED|150498|Rua Alferes Poli,...|        5.53|2020-05-03 06:28:43|-25.458948| -49.26285|  06:28:43|\n",
      "|      561|Praca Rui Barbosa|  EA210|2020|    5|  3|   6|    28|       MOVING|150498|Rua Alferes Poli,...|       31.13|2020-05-03 06:28:48| -25.45859|-49.263018|  06:28:48|\n",
      "|      561|Praca Rui Barbosa|  EA210|2020|    5|  3|   6|    33|       MOVING|102006|Praca Rui Barbosa...|       27.77|2020-05-03 06:33:29| -25.43543|-49.273946|  06:33:29|\n",
      "|      561|Praca Rui Barbosa|  EA210|2020|    5|  3|   6|    33|      STOPPED|102006|Praca Rui Barbosa...|       12.03|2020-05-03 06:33:37|-25.435336|-49.273701|  06:33:37|\n",
      "+---------+-----------------+-------+----+-----+---+----+------+-------------+------+--------------------+------------+-------------------+----------+----------+----------+\n",
      "only showing top 20 rows\n",
      "\n"
     ]
    }
   ],
   "source": [
    "event_edges.show()"
   ]
  },
  {
   "cell_type": "code",
   "execution_count": null,
   "metadata": {},
   "outputs": [],
   "source": []
  },
  {
   "cell_type": "code",
   "execution_count": 65,
   "metadata": {},
   "outputs": [],
   "source": [
    "event_edges_test = event_edges.select(\"line_code\",\"line_way\",\"vehicle\",\"event_timestamp\",\"latitude\",\"longitude\",\"year\",\"month\",\"day\",\"hour\",\"minute\",\"moving_status\",\"event_time\",\"timetable\",\"number\",\"name\",\"delta_velocity\")"
   ]
  },
  {
   "cell_type": "code",
   "execution_count": 66,
   "metadata": {},
   "outputs": [
    {
     "data": {
      "text/plain": [
       "749"
      ]
     },
     "execution_count": 66,
     "metadata": {},
     "output_type": "execute_result"
    }
   ],
   "source": [
    "event_edges_test.count()"
   ]
  },
  {
   "cell_type": "code",
   "execution_count": 50,
   "metadata": {},
   "outputs": [
    {
     "name": "stdout",
     "output_type": "stream",
     "text": [
      "+---------+-----------------+-------+-------------------+----------+----------+----+-----+---+----+------+-------------+----------+---------+------+--------------------------------------------+--------------+\n",
      "|line_code|line_way         |vehicle|event_timestamp    |latitude  |longitude |year|month|day|hour|minute|moving_status|event_time|timetable|number|name                                        |delta_velocity|\n",
      "+---------+-----------------+-------+-------------------+----------+----------+----+-----+---+----+------+-------------+----------+---------+------+--------------------------------------------+--------------+\n",
      "|561      |Praca Rui Barbosa|EA210  |2020-05-03 06:20:34|-25.488551|-49.275153|2020|5    |3  |6   |20    |MOVING       |06:20:34  |2        |150629|Rua Jose Taschner, 66 - Fanny               |41.61         |\n",
      "|561      |Praca Rui Barbosa|EA210  |2020-05-03 06:20:36|-25.488616|-49.275056|2020|5    |3  |6   |20    |MOVING       |06:20:36  |2        |150629|Rua Jose Taschner, 66 - Fanny               |21.83         |\n",
      "|561      |Praca Rui Barbosa|EA210  |2020-05-03 06:21:34|-25.484915|-49.271936|2020|5    |3  |6   |21    |MOVING       |06:21:34  |2        |150285|Rua Maestro Francisco Antonelo, 1754 - Fanny|57.61         |\n",
      "|561      |Praca Rui Barbosa|EA210  |2020-05-03 06:21:50|-25.48316 |-49.270521|2020|5    |3  |6   |21    |MOVING       |06:21:50  |2        |150168|Rua Maestro Francisco Antonelo, 42 - Fanny  |50.76         |\n",
      "|561      |Praca Rui Barbosa|EA210  |2020-05-03 06:22:12|-25.480601|-49.268456|2020|5    |3  |6   |22    |MOVING       |06:22:12  |2        |150165|Rua Maestro Francisco Antonelo, 1070 - Fanny|58.07         |\n",
      "|561      |Praca Rui Barbosa|EA210  |2020-05-03 06:22:45|-25.477548|-49.266003|2020|5    |3  |6   |22    |MOVING       |06:22:45  |2        |150287|Rua Maestro Francisco Antonelo, 738 - Fanny |51.89         |\n",
      "|561      |Praca Rui Barbosa|EA210  |2020-05-03 06:23:00|-25.47598 |-49.264736|2020|5    |3  |6   |23    |MOVING       |06:23:00  |2        |150289|Rua Maestro Francisco Antonelo, 483 - Fanny |51.84         |\n",
      "|561      |Praca Rui Barbosa|EA210  |2020-05-03 06:23:35|-25.473948|-49.263071|2020|5    |3  |6   |23    |MOVING       |06:23:35  |2        |150291|Rua Maestro Francisco Antonelo, 230 - Fanny |24.63         |\n",
      "|561      |Praca Rui Barbosa|EA210  |2020-05-03 06:23:48|-25.473771|-49.262943|2020|5    |3  |6   |23    |STOPPED      |06:23:48  |2        |150291|Rua Maestro Francisco Antonelo, 230 - Fanny |6.51          |\n",
      "|561      |Praca Rui Barbosa|EA210  |2020-05-03 06:24:38|-25.4726  |-49.260756|2020|5    |3  |6   |24    |MOVING       |06:24:38  |2        |150493|Rua Antonio Barrichelo, 249 - Fanny         |17.86         |\n",
      "+---------+-----------------+-------+-------------------+----------+----------+----+-----+---+----+------+-------------+----------+---------+------+--------------------------------------------+--------------+\n",
      "only showing top 10 rows\n",
      "\n"
     ]
    }
   ],
   "source": [
    "event_edges_test.orderBy(event_edges_test.event_timestamp).show(10, False)"
   ]
  },
  {
   "cell_type": "code",
   "execution_count": 68,
   "metadata": {},
   "outputs": [
    {
     "data": {
      "text/plain": [
       "596"
      ]
     },
     "execution_count": 68,
     "metadata": {},
     "output_type": "execute_result"
    }
   ],
   "source": [
    "(event_edges_test\n",
    " .groupBy(event_edges_test.line_code,event_edges_test.line_way,event_edges_test.vehicle,event_edges_test.year ,event_edges_test.month,event_edges_test.day ,event_edges_test.hour,event_edges_test.minute,event_edges_test.moving_status,event_edges_test.number,event_edges_test.name)\n",
    ".agg(F.mean(\"delta_velocity\").alias(\"avg_velocity\") , \n",
    "     F.last(\"event_timestamp\").alias(\"event_timestamp\"),\n",
    "     F.last(\"latitude\").alias(\"latitude\"),\n",
    "     F.last(\"longitude\").alias(\"longitude\"),\n",
    "     F.last(\"event_time\").alias(\"event_time\")\n",
    "    ).orderBy(event_edges_test.line_code,event_edges_test.line_way,event_edges_test.vehicle, F.col(\"event_timestamp\"))).count()"
   ]
  },
  {
   "cell_type": "code",
   "execution_count": 53,
   "metadata": {},
   "outputs": [],
   "source": [
    "window_spec = (\n",
    "            Window.partitionBy(event_edges_test.line_code,event_edges_test.line_way,event_edges_test.vehicle,event_edges_test.year ,event_edges_test.month,event_edges_test.day ,event_edges_test.hour,event_edges_test.minute,event_edges_test.moving_status,event_edges_test.number,event_edges_test.name)\n",
    "        )"
   ]
  },
  {
   "cell_type": "code",
   "execution_count": 59,
   "metadata": {},
   "outputs": [
    {
     "name": "stdout",
     "output_type": "stream",
     "text": [
      "+---------+-----------------+-------+-------------------+----------+----------+----+-----+---+----+------+-------------+----------+---------+------+--------------------------------------------+--------------+------------+\n",
      "|line_code|line_way         |vehicle|event_timestamp    |latitude  |longitude |year|month|day|hour|minute|moving_status|event_time|timetable|number|name                                        |delta_velocity|avg_velocity|\n",
      "+---------+-----------------+-------+-------------------+----------+----------+----+-----+---+----+------+-------------+----------+---------+------+--------------------------------------------+--------------+------------+\n",
      "|561      |Praca Rui Barbosa|EA210  |2020-05-03 06:20:36|-25.488616|-49.275056|2020|5    |3  |6   |20    |MOVING       |06:20:36  |2        |150629|Rua Jose Taschner, 66 - Fanny               |41.61         |31.72       |\n",
      "|561      |Praca Rui Barbosa|EA210  |2020-05-03 06:20:36|-25.488616|-49.275056|2020|5    |3  |6   |20    |MOVING       |06:20:36  |2        |150629|Rua Jose Taschner, 66 - Fanny               |21.83         |31.72       |\n",
      "|561      |Praca Rui Barbosa|EA210  |2020-05-03 06:21:34|-25.484915|-49.271936|2020|5    |3  |6   |21    |MOVING       |06:21:34  |2        |150285|Rua Maestro Francisco Antonelo, 1754 - Fanny|57.61         |57.61       |\n",
      "|561      |Praca Rui Barbosa|EA210  |2020-05-03 06:21:50|-25.48316 |-49.270521|2020|5    |3  |6   |21    |MOVING       |06:21:50  |2        |150168|Rua Maestro Francisco Antonelo, 42 - Fanny  |50.76         |50.76       |\n",
      "|561      |Praca Rui Barbosa|EA210  |2020-05-03 06:22:12|-25.480601|-49.268456|2020|5    |3  |6   |22    |MOVING       |06:22:12  |2        |150165|Rua Maestro Francisco Antonelo, 1070 - Fanny|58.07         |58.07       |\n",
      "|561      |Praca Rui Barbosa|EA210  |2020-05-03 06:22:45|-25.477548|-49.266003|2020|5    |3  |6   |22    |MOVING       |06:22:45  |2        |150287|Rua Maestro Francisco Antonelo, 738 - Fanny |51.89         |51.89       |\n",
      "|561      |Praca Rui Barbosa|EA210  |2020-05-03 06:23:00|-25.47598 |-49.264736|2020|5    |3  |6   |23    |MOVING       |06:23:00  |2        |150289|Rua Maestro Francisco Antonelo, 483 - Fanny |51.84         |51.84       |\n",
      "|561      |Praca Rui Barbosa|EA210  |2020-05-03 06:23:35|-25.473948|-49.263071|2020|5    |3  |6   |23    |MOVING       |06:23:35  |2        |150291|Rua Maestro Francisco Antonelo, 230 - Fanny |24.63         |24.63       |\n",
      "|561      |Praca Rui Barbosa|EA210  |2020-05-03 06:23:48|-25.473771|-49.262943|2020|5    |3  |6   |23    |STOPPED      |06:23:48  |2        |150291|Rua Maestro Francisco Antonelo, 230 - Fanny |6.51          |6.51        |\n",
      "|561      |Praca Rui Barbosa|EA210  |2020-05-03 06:24:38|-25.4726  |-49.260756|2020|5    |3  |6   |24    |MOVING       |06:24:38  |2        |150493|Rua Antonio Barrichelo, 249 - Fanny         |17.86         |17.86       |\n",
      "+---------+-----------------+-------+-------------------+----------+----------+----+-----+---+----+------+-------------+----------+---------+------+--------------------------------------------+--------------+------------+\n",
      "only showing top 10 rows\n",
      "\n"
     ]
    }
   ],
   "source": [
    "(event_edges_test.withColumn(\"avg_velocity\", F.mean(\"delta_velocity\").over(window_spec)) \n",
    "                .withColumn(\"event_timestamp\", F.last(\"event_timestamp\").over(window_spec))\n",
    "                .withColumn(\"latitude\", F.last(\"latitude\").over(window_spec))\n",
    "                .withColumn(\"longitude\", F.last(\"longitude\").over(window_spec))\n",
    "                .withColumn(\"event_time\", F.last(\"event_time\").over(window_spec))\n",
    "                .orderBy(event_edges_test.event_timestamp)).show(10, False)"
   ]
  },
  {
   "cell_type": "code",
   "execution_count": null,
   "metadata": {},
   "outputs": [],
   "source": []
  }
 ],
 "metadata": {
  "kernelspec": {
   "display_name": "Python 3",
   "language": "python",
   "name": "python3"
  },
  "language_info": {
   "codemirror_mode": {
    "name": "ipython",
    "version": 3
   },
   "file_extension": ".py",
   "mimetype": "text/x-python",
   "name": "python",
   "nbconvert_exporter": "python",
   "pygments_lexer": "ipython3",
   "version": "3.7.6"
  }
 },
 "nbformat": 4,
 "nbformat_minor": 4
}
