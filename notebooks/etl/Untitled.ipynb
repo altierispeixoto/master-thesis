{
 "cells": [
  {
   "cell_type": "code",
   "execution_count": 20,
   "metadata": {},
   "outputs": [],
   "source": [
    "from dataprocessing.processors.refined_ingestion import TrackingDataRefinedProcess, TimetableRefinedProcess, BusStopRefinedProcess, haversine\n",
    "from pyspark.sql import functions as F, types as T\n",
    "from pyspark.sql.window import Window"
   ]
  },
  {
   "cell_type": "code",
   "execution_count": 2,
   "metadata": {},
   "outputs": [],
   "source": [
    "from dataprocessing.processors.sparketl import ETLSpark\n",
    "\n",
    "etl_spark = ETLSpark()\n",
    "\n",
    "df = etl_spark.sqlContext.read.parquet(\"/data/trusted/vehicles\").withColumn(\"hour\", F.hour(F.col(\"event_timestamp\"))).sort(F.asc(\"event_timestamp\"))"
   ]
  },
  {
   "cell_type": "code",
   "execution_count": 2,
   "metadata": {},
   "outputs": [],
   "source": [
    "df = TrackingDataRefinedProcess().compute_metrics()"
   ]
  },
  {
   "cell_type": "code",
   "execution_count": 22,
   "metadata": {},
   "outputs": [],
   "source": [
    "window_spec = (\n",
    "            Window.partitionBy(df.moving_status, df.line_code, df.vehicle, df.year, df.month,\n",
    "                               df.day, df.hour, df.minute)\n",
    "                .orderBy(df.event_timestamp)\n",
    "        )\n",
    "\n",
    "df = (df.filter(F.col(\"moving_status\") == 'STOPPED').withColumn(\"rn\", F.row_number().over(window_spec)))#.where(F.col(\"rn\") == 1).drop(\"rn\"))"
   ]
  },
  {
   "cell_type": "code",
   "execution_count": 24,
   "metadata": {},
   "outputs": [
    {
     "name": "stdout",
     "output_type": "stream",
     "text": [
      "+---------+-------------------+----------+----------+-------+----+-----+---+----+------+-------------------+-------------+--------------+----------+--------------+--------------+-------------+---+\n",
      "|line_code|    event_timestamp|  latitude| longitude|vehicle|year|month|day|hour|minute|     last_timestamp|last_latitude|last_longitude|delta_time|delta_distance|delta_velocity|moving_status| rn|\n",
      "+---------+-------------------+----------+----------+-------+----+-----+---+----+------+-------------------+-------------+--------------+----------+--------------+--------------+-------------+---+\n",
      "|      010|2020-05-03 16:35:21|-25.448778|-49.260875|  BB302|2020|    5|  3|  16|    35|2020-05-03 16:35:03|   -25.448576|    -49.260325|        18|         59.62|         11.92|      STOPPED|  1|\n",
      "|      010|2020-05-03 16:35:46|-25.449448|-49.262538|  BB302|2020|    5|  3|  16|    35|2020-05-03 16:35:39|   -25.449383|    -49.262376|         7|          17.8|          9.15|      STOPPED|  2|\n",
      "|      010|2020-05-03 16:35:59|-25.449511|-49.262748|  BB302|2020|    5|  3|  16|    35|2020-05-03 16:35:46|   -25.449448|    -49.262538|        13|         22.22|          6.15|      STOPPED|  3|\n",
      "|      010|2020-05-03 14:59:10| -25.44956|-49.254128|  BB303|2020|    5|  3|  14|    59|2020-05-03 14:54:09|   -25.449498|    -49.254176|       301|          8.41|           0.1|      STOPPED|  1|\n",
      "|      010|2020-05-03 17:02:06|-25.447055|-49.256361|  BB303|2020|    5|  3|  17|     2|2020-05-03 17:01:39|   -25.447286|    -49.256193|        27|         30.73|           4.1|      STOPPED|  1|\n",
      "|      010|2020-05-03 17:02:53|-25.447711| -49.25818|  BB303|2020|    5|  3|  17|     2|2020-05-03 17:02:36|   -25.447586|    -49.257883|        17|          32.9|          6.97|      STOPPED|  2|\n",
      "|      010|2020-05-03 19:16:10|-25.438605|-49.288875|  BB303|2020|    5|  3|  19|    16|2020-05-03 19:16:07|   -25.438646|    -49.288818|         3|          7.32|          8.78|      STOPPED|  1|\n",
      "+---------+-------------------+----------+----------+-------+----+-----+---+----+------+-------------------+-------------+--------------+----------+--------------+--------------+-------------+---+\n",
      "only showing top 7 rows\n",
      "\n"
     ]
    }
   ],
   "source": [
    "df.show(7)"
   ]
  },
  {
   "cell_type": "code",
   "execution_count": 4,
   "metadata": {},
   "outputs": [],
   "source": [
    "stop_events = TrackingDataRefinedProcess().stop_events(df)"
   ]
  },
  {
   "cell_type": "code",
   "execution_count": 7,
   "metadata": {},
   "outputs": [
    {
     "data": {
      "text/plain": [
       "533"
      ]
     },
     "execution_count": 7,
     "metadata": {},
     "output_type": "execute_result"
    }
   ],
   "source": [
    "stop_events.filter('line_code = 636').count()"
   ]
  },
  {
   "cell_type": "code",
   "execution_count": 8,
   "metadata": {},
   "outputs": [
    {
     "data": {
      "text/plain": [
       "829"
      ]
     },
     "execution_count": 8,
     "metadata": {},
     "output_type": "execute_result"
    }
   ],
   "source": [
    "df.filter(\"moving_status == 'STOPPED' and line_code = 636\").count()"
   ]
  },
  {
   "cell_type": "code",
   "execution_count": 9,
   "metadata": {},
   "outputs": [],
   "source": [
    "trips = TimetableRefinedProcess().trips().drop(\"year\", \"month\", \"day\")\n",
    "bus_stops = BusStopRefinedProcess().bus_stops().drop(\"year\", \"month\", \"day\")\n",
    "bus_stops = bus_stops.withColumnRenamed(\"latitude\", \"bus_stop_latitude\").withColumnRenamed(\"longitude\",\"bus_stop_longitude\")"
   ]
  },
  {
   "cell_type": "code",
   "execution_count": 10,
   "metadata": {},
   "outputs": [
    {
     "name": "stdout",
     "output_type": "stream",
     "text": [
      "+---------+-----------+---------+----------+---------+-------+--------+----------------------+\n",
      "|line_code|start_point|end_point|start_time|timetable|vehicle|end_time|line_way              |\n",
      "+---------+-----------+---------+----------+---------+-------+--------+----------------------+\n",
      "|232      |120990     |105903   |05:42     |1        |BA004  |06:01   |Terminal Santa Candida|\n",
      "|232      |120990     |105903   |06:18     |1        |BA004  |06:35   |Terminal Santa Candida|\n",
      "|232      |120990     |105903   |06:52     |1        |BA004  |07:10   |Terminal Santa Candida|\n",
      "|232      |120990     |105903   |07:27     |1        |BA004  |07:45   |Terminal Santa Candida|\n",
      "|232      |120990     |105903   |08:02     |1        |BA004  |08:20   |Terminal Santa Candida|\n",
      "+---------+-----------+---------+----------+---------+-------+--------+----------------------+\n",
      "only showing top 5 rows\n",
      "\n"
     ]
    }
   ],
   "source": [
    "trips.show(5,False)"
   ]
  },
  {
   "cell_type": "code",
   "execution_count": 11,
   "metadata": {},
   "outputs": [
    {
     "name": "stdout",
     "output_type": "stream",
     "text": [
      "+---------+---------------------------------+------+-----------------------------------------------+---+-----------------+------------------+---------------+\n",
      "|line_code|line_way                         |number|name                                           |seq|bus_stop_latitude|bus_stop_longitude|type           |\n",
      "+---------+---------------------------------+------+-----------------------------------------------+---+-----------------+------------------+---------------+\n",
      "|820      |Terminal Campo Comprido          |180339|Rua Eduardo Sprada, 6221 - Cidade Industrial   |25 |-25.451962449757 |-49.363255680746  |Domus          |\n",
      "|643      |Terminal Pinheirinho  Via Calixto|160279|Rua Nicola Pellanda, 4653 - Umbara             |14 |-25.568216300477 |-49.284210981077  |Novo mobiliario|\n",
      "|021      |Terminal Cap?o Raso              |120094|Rua Pedro Fabri, 241 - Cabral                  |79 |-25.401386650558 |-49.253030969693  |Novo mobiliario|\n",
      "|716      |Frigorifico / Caiua / Bela Vista |180328|Rua Lodovico Kaminski, 1830 - Cidade Industrial|1  |-25.475792027412 |-49.359086059061  |Chapeu chines  |\n",
      "|374      |Terminal Bairro Alto             |130106|Rua Augusto Stresser, 893 - Alto da Gloria     |10 |-25.417286956887 |-49.249937714285  |Novo mobiliario|\n",
      "+---------+---------------------------------+------+-----------------------------------------------+---+-----------------+------------------+---------------+\n",
      "only showing top 5 rows\n",
      "\n"
     ]
    }
   ],
   "source": [
    "bus_stops.show(5,False)"
   ]
  },
  {
   "cell_type": "code",
   "execution_count": 12,
   "metadata": {},
   "outputs": [],
   "source": [
    "stop_events = (\n",
    "        stop_events.withColumn(\"event_time\", F.date_format(F.col(\"stop_timestamp\"), 'HH:mm:ss')).alias(\"se\")\n",
    "    .join(trips.alias(\"tr\"), [\"line_code\", \"vehicle\"]).filter(\n",
    "                F.col(\"event_time\").between(F.col(\"start_time\"), F.col(\"end_time\")))\n",
    ")"
   ]
  },
  {
   "cell_type": "code",
   "execution_count": 13,
   "metadata": {},
   "outputs": [
    {
     "name": "stdout",
     "output_type": "stream",
     "text": [
      "+---------+-------+-------------------+----+-----+---+----+------+----------+----------+----------+-----------+---------+----------+---------+--------+-----------------+\n",
      "|line_code|vehicle|     stop_timestamp|year|month|day|hour|minute|  latitude| longitude|event_time|start_point|end_point|start_time|timetable|end_time|         line_way|\n",
      "+---------+-------+-------------------+----+-----+---+----+------+----------+----------+----------+-----------+---------+----------+---------+--------+-----------------+\n",
      "|      561|  EA210|2020-05-03 06:20:18|2020|    5|  3|   6|    20|-25.487578|-49.276601|  06:20:18|     150628|   102006|     06:20|        2|   06:50|Praca Rui Barbosa|\n",
      "|      561|  EA210|2020-05-03 06:23:48|2020|    5|  3|   6|    23|-25.473771|-49.262943|  06:23:48|     150628|   102006|     06:20|        2|   06:50|Praca Rui Barbosa|\n",
      "|      561|  EA210|2020-05-03 06:25:47|2020|    5|  3|   6|    25|-25.467953|-49.262276|  06:25:47|     150628|   102006|     06:20|        2|   06:50|Praca Rui Barbosa|\n",
      "|      561|  EA210|2020-05-03 06:26:10|2020|    5|  3|   6|    26| -25.46767|-49.261583|  06:26:10|     150628|   102006|     06:20|        2|   06:50|Praca Rui Barbosa|\n",
      "|      561|  EA210|2020-05-03 06:27:14|2020|    5|  3|   6|    27|-25.464385|-49.259098|  06:27:14|     150628|   102006|     06:20|        2|   06:50|Praca Rui Barbosa|\n",
      "|      561|  EA210|2020-05-03 06:28:28|2020|    5|  3|   6|    28|-25.459136|-49.262753|  06:28:28|     150628|   102006|     06:20|        2|   06:50|Praca Rui Barbosa|\n",
      "|      561|  EA210|2020-05-03 06:30:23|2020|    5|  3|   6|    30|-25.446936|-49.268555|  06:30:23|     150628|   102006|     06:20|        2|   06:50|Praca Rui Barbosa|\n",
      "|      561|  EA210|2020-05-03 06:31:50|2020|    5|  3|   6|    31| -25.44261|-49.270625|  06:31:50|     150628|   102006|     06:20|        2|   06:50|Praca Rui Barbosa|\n",
      "|      561|  EA210|2020-05-03 06:32:55|2020|    5|  3|   6|    32|-25.436581|-49.273438|  06:32:55|     150628|   102006|     06:20|        2|   06:50|Praca Rui Barbosa|\n",
      "|      561|  EA210|2020-05-03 06:33:21|2020|    5|  3|   6|    33|-25.435811|-49.274501|  06:33:21|     150628|   102006|     06:20|        2|   06:50|Praca Rui Barbosa|\n",
      "|      561|  EA210|2020-05-03 06:38:38|2020|    5|  3|   6|    38| -25.43536| -49.27375|  06:38:38|     150628|   102006|     06:20|        2|   06:50|Praca Rui Barbosa|\n",
      "|      561|  EA210|2020-05-03 06:43:39|2020|    5|  3|   6|    43| -25.43531|-49.273763|  06:43:39|     150628|   102006|     06:20|        2|   06:50|Praca Rui Barbosa|\n",
      "|      561|  EA210|2020-05-03 06:48:40|2020|    5|  3|   6|    48|-25.435368| -49.27375|  06:48:40|     150628|   102006|     06:20|        2|   06:50|Praca Rui Barbosa|\n",
      "|      561|  EA210|2020-05-03 06:49:47|2020|    5|  3|   6|    49|-25.435253|-49.273606|  06:49:47|     150628|   102006|     06:20|        2|   06:50|Praca Rui Barbosa|\n",
      "|      561|  EA210|2020-05-03 06:50:48|2020|    5|  3|   6|    50|-25.436011|-49.271345|  06:50:48|     102006|   150628|     06:50|        2|   07:20|      Guilhermina|\n",
      "|      561|  EA210|2020-05-03 06:51:14|2020|    5|  3|   6|    51| -25.43871|-49.269981|  06:51:14|     102006|   150628|     06:50|        2|   07:20|      Guilhermina|\n",
      "|      561|  EA210|2020-05-03 06:52:03|2020|    5|  3|   6|    52|-25.438918|-49.269931|  06:52:03|     102006|   150628|     06:50|        2|   07:20|      Guilhermina|\n",
      "|      561|  EA210|2020-05-03 06:53:46|2020|    5|  3|   6|    53|-25.446296|-49.266625|  06:53:46|     102006|   150628|     06:50|        2|   07:20|      Guilhermina|\n",
      "|      561|  EA210|2020-05-03 06:56:39|2020|    5|  3|   6|    56| -25.45946|-49.263515|  06:56:39|     102006|   150628|     06:50|        2|   07:20|      Guilhermina|\n",
      "|      561|  EA210|2020-05-03 06:58:32|2020|    5|  3|   6|    58|-25.466336| -49.25826|  06:58:32|     102006|   150628|     06:50|        2|   07:20|      Guilhermina|\n",
      "+---------+-------+-------------------+----+-----+---+----+------+----------+----------+----------+-----------+---------+----------+---------+--------+-----------------+\n",
      "only showing top 20 rows\n",
      "\n"
     ]
    }
   ],
   "source": [
    "stop_events.show()"
   ]
  },
  {
   "cell_type": "code",
   "execution_count": 14,
   "metadata": {},
   "outputs": [],
   "source": [
    "dff = (stop_events.alias(\"se\").join(bus_stops.alias(\"bs\"), [\"line_code\", \"line_way\"], 'inner')\n",
    "                .withColumn(\"distance\",\n",
    "                            haversine(F.col('se.longitude').cast(T.DoubleType()),\n",
    "                                      F.col('se.latitude').cast(T.DoubleType()),\n",
    "                                      F.col('bs.bus_stop_longitude').cast(T.DoubleType()),\n",
    "                                      F.col('bs.bus_stop_latitude').cast(T.DoubleType())))\n",
    "                .filter(F.col(\"distance\") < 30))"
   ]
  },
  {
   "cell_type": "code",
   "execution_count": 15,
   "metadata": {},
   "outputs": [
    {
     "name": "stdout",
     "output_type": "stream",
     "text": [
      "+---------+--------+-------+-------------------+----+-----+---+----+------+----------+----------+----------+-----------+---------+----------+---------+--------+------+-------------------------------------------------------+---+-----------------+------------------+-------------+--------+\n",
      "|line_code|line_way|vehicle|stop_timestamp     |year|month|day|hour|minute|latitude  |longitude |event_time|start_point|end_point|start_time|timetable|end_time|number|name                                                   |seq|bus_stop_latitude|bus_stop_longitude|type         |distance|\n",
      "+---------+--------+-------+-------------------+----+-----+---+----+------+----------+----------+----------+-----------+---------+----------+---------+--------+------+-------------------------------------------------------+---+-----------------+------------------+-------------+--------+\n",
      "|212      |Solar   |BI866  |2020-05-03 06:23:25|2020|5    |3  |6   |23    |-25.400316|-49.217445|06:23:25  |104409     |130038   |06:10     |1        |06:30   |130038|Rua Moreno Roseira Penteado de Almeida, 176 - Bacacheri|23 |-25.400205459238 |-49.217633565641  |Chapeu chines|22.58   |\n",
      "|212      |Solar   |BI866  |2020-05-03 06:28:26|2020|5    |3  |6   |28    |-25.400255|-49.217676|06:28:26  |104409     |130038   |06:10     |1        |06:30   |130038|Rua Moreno Roseira Penteado de Almeida, 176 - Bacacheri|23 |-25.400205459238 |-49.217633565641  |Chapeu chines|6.97    |\n",
      "|212      |Solar   |BI866  |2020-05-03 07:01:18|2020|5    |3  |7   |1     |-25.39626 |-49.216131|07:01:18  |104409     |130038   |06:50     |1        |07:10   |130033|Av. Luisa Gulin, 268 - Bacacheri                       |19 |-25.396226098222 |-49.216149387732  |Chapeu chines|4.2     |\n",
      "|212      |Solar   |BI866  |2020-05-03 07:04:12|2020|5    |3  |7   |4     |-25.400295|-49.21743 |07:04:12  |104409     |130038   |06:50     |1        |07:10   |130038|Rua Moreno Roseira Penteado de Almeida, 176 - Bacacheri|23 |-25.400205459238 |-49.217633565641  |Chapeu chines|22.74   |\n",
      "|212      |Solar   |BI866  |2020-05-03 07:09:13|2020|5    |3  |7   |9     |-25.400288|-49.217643|07:09:13  |104409     |130038   |06:50     |1        |07:10   |130038|Rua Moreno Roseira Penteado de Almeida, 176 - Bacacheri|23 |-25.400205459238 |-49.217633565641  |Chapeu chines|9.23    |\n",
      "+---------+--------+-------+-------------------+----+-----+---+----+------+----------+----------+----------+-----------+---------+----------+---------+--------+------+-------------------------------------------------------+---+-----------------+------------------+-------------+--------+\n",
      "only showing top 5 rows\n",
      "\n"
     ]
    }
   ],
   "source": [
    "dff.show(5, False)"
   ]
  },
  {
   "cell_type": "code",
   "execution_count": 16,
   "metadata": {},
   "outputs": [
    {
     "data": {
      "text/plain": [
       "20623"
      ]
     },
     "execution_count": 16,
     "metadata": {},
     "output_type": "execute_result"
    }
   ],
   "source": [
    "dff.count()"
   ]
  },
  {
   "cell_type": "code",
   "execution_count": 18,
   "metadata": {},
   "outputs": [],
   "source": [
    "dff.groupBy(\"line_code\",\"line_way\",\"number\").agg(F.count(\"vehicle\")).toPandas().to_csv(\"stop_events_edges2.csv\",index=False)"
   ]
  },
  {
   "cell_type": "code",
   "execution_count": 17,
   "metadata": {},
   "outputs": [
    {
     "name": "stdout",
     "output_type": "stream",
     "text": [
      "+---------+--------------------+-------+-------------------+----+-----+---+----+------+----------+----------+----------+-----------+---------+----------+---------+--------+------+--------------------+---+-----------------+------------------+-----+--------+\n",
      "|line_code|            line_way|vehicle|     stop_timestamp|year|month|day|hour|minute|  latitude| longitude|event_time|start_point|end_point|start_time|timetable|end_time|number|                name|seq|bus_stop_latitude|bus_stop_longitude| type|distance|\n",
      "+---------+--------------------+-------+-------------------+----+-----+---+----+------+----------+----------+----------+-----------+---------+----------+---------+--------+------+--------------------+---+-----------------+------------------+-----+--------+\n",
      "|      636|Terminal Pinheirinho|  GI023|2020-05-03 05:04:51|2020|    5|  3|   5|     4|-25.544118|-49.281388|  05:04:51|     160147|   105735|     05:00|        1|   05:20|160229|Rua Celeste Torta...| 10|  -25.54417919341|   -49.28167092914|Domus|   29.19|\n",
      "|      636|Terminal Pinheirinho|  GI023|2020-05-03 07:45:03|2020|    5|  3|   7|    45|-25.544158| -49.28165|  07:45:03|     160147|   105735|     07:40|        1|   08:00|160229|Rua Celeste Torta...| 10|  -25.54417919341|   -49.28167092914|Domus|    3.16|\n",
      "|      636|Terminal Pinheirinho|  GI023|2020-05-03 11:05:11|2020|    5|  3|  11|     5|-25.544155|-49.281651|  11:05:11|     160147|   105735|     11:00|        1|   11:20|160229|Rua Celeste Torta...| 10|  -25.54417919341|   -49.28167092914|Domus|    3.35|\n",
      "|      636|Terminal Pinheirinho|  GI023|2020-05-03 13:44:12|2020|    5|  3|  13|    44|-25.544161|-49.281668|  13:44:12|     160147|   105735|     13:40|        1|   14:00|160229|Rua Celeste Torta...| 10|  -25.54417919341|   -49.28167092914|Domus|    2.04|\n",
      "|      636|Terminal Pinheirinho|  GI023|2020-05-03 15:04:11|2020|    5|  3|  15|     4|-25.544148| -49.28167|  15:04:11|     160147|   105735|     15:00|        1|   15:20|160229|Rua Celeste Torta...| 10|  -25.54417919341|   -49.28167092914|Domus|    3.47|\n",
      "|      636|Terminal Pinheirinho|  GI023|2020-05-03 16:24:22|2020|    5|  3|  16|    24|-25.544151| -49.28165|  16:24:22|     160147|   105735|     16:20|        1|   16:40|160229|Rua Celeste Torta...| 10|  -25.54417919341|   -49.28167092914|Domus|    3.77|\n",
      "|      636|Terminal Pinheirinho|  GI023|2020-05-03 18:23:08|2020|    5|  3|  18|    23|-25.544153|-49.281633|  18:23:08|     160147|   105735|     18:20|        1|   18:40|160229|Rua Celeste Torta...| 10|  -25.54417919341|   -49.28167092914|Domus|    4.79|\n",
      "+---------+--------------------+-------+-------------------+----+-----+---+----+------+----------+----------+----------+-----------+---------+----------+---------+--------+------+--------------------+---+-----------------+------------------+-----+--------+\n",
      "\n"
     ]
    }
   ],
   "source": [
    "dff.filter(\"number == 160229\").show(50)"
   ]
  },
  {
   "cell_type": "code",
   "execution_count": 30,
   "metadata": {},
   "outputs": [
    {
     "data": {
      "text/plain": [
       "20041"
      ]
     },
     "execution_count": 30,
     "metadata": {},
     "output_type": "execute_result"
    }
   ],
   "source": [
    "bus_stops.count()"
   ]
  },
  {
   "cell_type": "code",
   "execution_count": null,
   "metadata": {},
   "outputs": [],
   "source": []
  }
 ],
 "metadata": {
  "kernelspec": {
   "display_name": "Python 3",
   "language": "python",
   "name": "python3"
  },
  "language_info": {
   "codemirror_mode": {
    "name": "ipython",
    "version": 3
   },
   "file_extension": ".py",
   "mimetype": "text/x-python",
   "name": "python",
   "nbconvert_exporter": "python",
   "pygments_lexer": "ipython3",
   "version": "3.7.6"
  }
 },
 "nbformat": 4,
 "nbformat_minor": 4
}
