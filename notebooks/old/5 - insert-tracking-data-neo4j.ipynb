{
 "cells": [
  {
   "cell_type": "code",
   "execution_count": 1,
   "metadata": {},
   "outputs": [],
   "source": [
    "from src.neo4jdataloader import DataLoader\n",
    "import pyspark.sql.functions as functions\n",
    "import time\n",
    "import pandas as pd"
   ]
  },
  {
   "cell_type": "code",
   "execution_count": 2,
   "metadata": {},
   "outputs": [],
   "source": [
    "dataloader = DataLoader()"
   ]
  },
  {
   "cell_type": "code",
   "execution_count": 3,
   "metadata": {},
   "outputs": [],
   "source": [
    "target_path = '/home/altieris/datascience/data/curitibaurbs/neo4j/veiculos/'"
   ]
  },
  {
   "cell_type": "code",
   "execution_count": 4,
   "metadata": {},
   "outputs": [],
   "source": [
    "veiculos = dataloader.load_data(target_path)"
   ]
  },
  {
   "cell_type": "code",
   "execution_count": 5,
   "metadata": {},
   "outputs": [],
   "source": [
    "veiculos_df = veiculos.select('veic','cod_linha','date').distinct().toPandas()"
   ]
  },
  {
   "cell_type": "code",
   "execution_count": null,
   "metadata": {},
   "outputs": [
    {
     "name": "stdout",
     "output_type": "stream",
     "text": [
      "Vehicle: BB309 - Line Code: 021\n",
      "Vehicle: BC306 - Line Code: 205\n",
      "Vehicle: BL335 - Line Code: 023\n",
      "Vehicle: EA195 - Line Code: 515\n",
      "Vehicle: GL321 - Line Code: 520\n",
      "Vehicle: DL040 - Line Code: 546\n",
      "Vehicle: HD243 - Line Code: 603\n",
      "Vehicle: HL307 - Line Code: 607\n",
      "Vehicle: HA602 - Line Code: 650\n",
      "Vehicle: HA601 - Line Code: 650\n",
      "Vehicle: BA113 - Line Code: 829\n",
      "Vehicle: LE849 - Line Code: 303\n",
      "Vehicle: EA019 - Line Code: 657\n",
      "Vehicle: GR022 - Line Code: 503\n",
      "Vehicle: HA006 - Line Code: 600\n",
      "Vehicle: BI882 - Line Code: 385\n",
      "Vehicle: BL305 - Line Code: 518\n",
      "Vehicle: GA178 - Line Code: 542\n",
      "Vehicle: HB698 - Line Code: 030\n",
      "Vehicle: EC014 - Line Code: 471\n",
      "Vehicle: HA198 - Line Code: 690\n",
      "Vehicle: HE713 - Line Code: 603\n",
      "Vehicle: GE700 - Line Code: 550\n",
      "Vehicle: JC302 - Line Code: 706\n",
      "Vehicle: LB600 - Line Code: 040\n"
     ]
    }
   ],
   "source": [
    "data = dict()\n",
    "\n",
    "for index, row in veiculos_df.iterrows():\n",
    "    dataloader.create_positions(veiculos,row['veic'],row['cod_linha'],row['date']) \n",
    "    dataloader.connect_events(row['veic'],row['cod_linha'],row['date'])\n",
    "    #dataloader.create_edge_properties(row['veic'],row['cod_linha'],row['date']) \n",
    "    \n",
    "    data['veic'] = row['veic']\n",
    "    data['cod_linha'] = row['cod_linha']\n",
    "    data['date'] = row['date']\n",
    "    \n",
    "    df = pd.DataFrame(data, index=[0])\n",
    "\n",
    "    df.to_csv('tracker-data.tsv', header=False, sep='\\t',index=False, mode='a')\n",
    "        \n",
    "    # Wait for 5 seconds\n",
    "    time.sleep(10)"
   ]
  },
  {
   "cell_type": "code",
   "execution_count": null,
   "metadata": {},
   "outputs": [],
   "source": []
  }
 ],
 "metadata": {
  "kernelspec": {
   "display_name": "Python 3",
   "language": "python",
   "name": "python3"
  },
  "language_info": {
   "codemirror_mode": {
    "name": "ipython",
    "version": 3
   },
   "file_extension": ".py",
   "mimetype": "text/x-python",
   "name": "python",
   "nbconvert_exporter": "python",
   "pygments_lexer": "ipython3",
   "version": "3.6.8"
  }
 },
 "nbformat": 4,
 "nbformat_minor": 2
}
