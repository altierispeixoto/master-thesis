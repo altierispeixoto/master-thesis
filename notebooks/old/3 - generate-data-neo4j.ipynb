{
 "cells": [
  {
   "cell_type": "code",
   "execution_count": 9,
   "metadata": {},
   "outputs": [],
   "source": [
    "from src.neo4jdataloader import DataLoader\n",
    "from src.neo4jcrud import UrbsNeo4JDatabase"
   ]
  },
  {
   "cell_type": "code",
   "execution_count": 10,
   "metadata": {},
   "outputs": [],
   "source": [
    "NEO4J_URI = 'bolt://172.16.1.118:7687'\n",
    "NEO4J_USER = 'neo4j'\n",
    "NEO4J_PASSWORD = 'neo4j2018'\n",
    "\n",
    "conn = UrbsNeo4JDatabase(NEO4J_URI, NEO4J_USER, NEO4J_PASSWORD)"
   ]
  },
  {
   "cell_type": "code",
   "execution_count": 11,
   "metadata": {},
   "outputs": [],
   "source": [
    "conn.delete_all()"
   ]
  },
  {
   "cell_type": "code",
   "execution_count": 6,
   "metadata": {},
   "outputs": [],
   "source": [
    "dataloader = DataLoader()"
   ]
  },
  {
   "cell_type": "code",
   "execution_count": 17,
   "metadata": {},
   "outputs": [],
   "source": [
    "#trechositinerarios_source_path = '/home/altieris/datascience/data/curitibaurbs/processed/trechositinerarios/'\n",
    "#trechositinerarios = dataloader.load_data(trechositinerarios_source_path)\n",
    "#dataloader.create_empresas_onibus(trechositinerarios, conn)\n",
    "#dataloader.create_categorias_onibus(trechositinerarios, conn)"
   ]
  },
  {
   "cell_type": "markdown",
   "metadata": {},
   "source": [
    "##### **GENERATE BUS STOPS**"
   ]
  },
  {
   "cell_type": "code",
   "execution_count": 7,
   "metadata": {},
   "outputs": [],
   "source": [
    "pontos_linha_source_path = '/home/altieris/datascience/data/curitibaurbs/processed/pontoslinha/'\n",
    "pontos_linha = dataloader.load_data(pontos_linha_source_path)\n",
    "dataloader.create_bus_stops(pontos_linha,conn)"
   ]
  },
  {
   "cell_type": "markdown",
   "metadata": {},
   "source": [
    "##### **GENERATE BUS LINES (ROUTES)**"
   ]
  },
  {
   "cell_type": "code",
   "execution_count": 8,
   "metadata": {},
   "outputs": [],
   "source": [
    "dataloader.create_routes(conn)"
   ]
  },
  {
   "cell_type": "code",
   "execution_count": null,
   "metadata": {},
   "outputs": [],
   "source": []
  }
 ],
 "metadata": {
  "kernelspec": {
   "display_name": "Python 3",
   "language": "python",
   "name": "python3"
  },
  "language_info": {
   "codemirror_mode": {
    "name": "ipython",
    "version": 3
   },
   "file_extension": ".py",
   "mimetype": "text/x-python",
   "name": "python",
   "nbconvert_exporter": "python",
   "pygments_lexer": "ipython3",
   "version": "3.6.8"
  }
 },
 "nbformat": 4,
 "nbformat_minor": 2
}
