{
 "cells": [
  {
   "cell_type": "code",
   "execution_count": 1,
   "metadata": {},
   "outputs": [],
   "source": [
    "from src.sparketl import ETLSpark\n",
    "etlspark = ETLSpark()"
   ]
  },
  {
   "cell_type": "code",
   "execution_count": 2,
   "metadata": {},
   "outputs": [],
   "source": [
    "datapath = '../../data'\n",
    "    "
   ]
  },
  {
   "cell_type": "markdown",
   "metadata": {},
   "source": [
    "##### **LINHAS**"
   ]
  },
  {
   "cell_type": "code",
   "execution_count": 3,
   "metadata": {},
   "outputs": [],
   "source": [
    "source_path = '{}{}'.format(datapath,'/urbs/raw/linhas/')\n",
    "target_path = '{}{}'.format(datapath,'/urbs/processed/linhas/')\n",
    "\n",
    "raw_data = etlspark.extract(source_path)\n",
    "etlspark.transform(raw_data, target_path)"
   ]
  },
  {
   "cell_type": "markdown",
   "metadata": {},
   "source": [
    "##### **PONTOS LINHA**"
   ]
  },
  {
   "cell_type": "code",
   "execution_count": 4,
   "metadata": {},
   "outputs": [],
   "source": [
    "source_path = '{}{}'.format(datapath,'/urbs/raw/pontoslinha/')\n",
    "target_path = '{}{}'.format(datapath,'/urbs/processed/pontoslinha/')\n",
    "\n",
    "raw_data = etlspark.extract(source_path)\n",
    "etlspark.transform(raw_data, target_path)"
   ]
  },
  {
   "cell_type": "markdown",
   "metadata": {},
   "source": [
    "##### **TABELALINHA**"
   ]
  },
  {
   "cell_type": "code",
   "execution_count": 5,
   "metadata": {},
   "outputs": [],
   "source": [
    "source_path = '{}{}'.format(datapath,'/urbs/raw/tabelalinha/')\n",
    "target_path = '{}{}'.format(datapath,'/urbs/processed/tabelalinha/')\n",
    "\n",
    "raw_data = etlspark.extract(source_path)\n",
    "etlspark.transform(raw_data, target_path)"
   ]
  },
  {
   "cell_type": "markdown",
   "metadata": {},
   "source": [
    "##### **TABELAVEICULO**"
   ]
  },
  {
   "cell_type": "code",
   "execution_count": 6,
   "metadata": {},
   "outputs": [],
   "source": [
    "source_path = '{}{}'.format(datapath,'/urbs/raw/tabelaveiculo/')\n",
    "target_path = '{}{}'.format(datapath,'/urbs/processed/tabelaveiculo/')\n",
    "\n",
    "raw_data = etlspark.extract(source_path)\n",
    "etlspark.transform(raw_data, target_path)"
   ]
  },
  {
   "cell_type": "markdown",
   "metadata": {},
   "source": [
    "##### **TRECHOSITINERARIOS**"
   ]
  },
  {
   "cell_type": "code",
   "execution_count": 7,
   "metadata": {},
   "outputs": [],
   "source": [
    "source_path = '{}{}'.format(datapath,'/urbs/raw/trechositinerarios/')\n",
    "target_path = '{}{}'.format(datapath,'/urbs/processed/trechositinerarios/')\n",
    "\n",
    "raw_data = etlspark.extract(source_path)\n",
    "etlspark.transform(raw_data, target_path)"
   ]
  },
  {
   "cell_type": "markdown",
   "metadata": {},
   "source": [
    "##### **VEICULOS**"
   ]
  },
  {
   "cell_type": "code",
   "execution_count": 8,
   "metadata": {},
   "outputs": [],
   "source": [
    "source_path = '{}{}'.format(datapath,'/urbs/raw/veiculos/')\n",
    "target_path = '{}{}'.format(datapath,'/urbs/processed/veiculos/')\n",
    "\n",
    "raw_data = etlspark.extract(source_path)\n",
    "etlspark.transform(raw_data, target_path,coalesce=5)"
   ]
  },
  {
   "cell_type": "code",
   "execution_count": null,
   "metadata": {},
   "outputs": [],
   "source": []
  }
 ],
 "metadata": {
  "kernelspec": {
   "display_name": "Python 3",
   "language": "python",
   "name": "python3"
  },
  "language_info": {
   "codemirror_mode": {
    "name": "ipython",
    "version": 3
   },
   "file_extension": ".py",
   "mimetype": "text/x-python",
   "name": "python",
   "nbconvert_exporter": "python",
   "pygments_lexer": "ipython3",
   "version": "3.7.3"
  }
 },
 "nbformat": 4,
 "nbformat_minor": 2
}
