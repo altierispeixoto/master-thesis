{
 "cells": [
  {
   "cell_type": "code",
   "execution_count": 1,
   "metadata": {},
   "outputs": [],
   "source": [
    "from src.sparketl import ETLSpark"
   ]
  },
  {
   "cell_type": "markdown",
   "metadata": {},
   "source": [
    "##### **LINHAS**"
   ]
  },
  {
   "cell_type": "code",
   "execution_count": 2,
   "metadata": {},
   "outputs": [],
   "source": [
    "source_path = '/home/altieris/datascience/data/curitibaurbs/raw/linhas'\n",
    "target_path = '/home/altieris/datascience/data/curitibaurbs/processed/linhas/'\n",
    "\n",
    "etlspark = ETLSpark()\n",
    "raw_data = etlspark.extract(source_path)\n",
    "etlspark.transform(raw_data, target_path)"
   ]
  },
  {
   "cell_type": "markdown",
   "metadata": {},
   "source": [
    "##### **PONTOS LINHA**"
   ]
  },
  {
   "cell_type": "code",
   "execution_count": 3,
   "metadata": {},
   "outputs": [],
   "source": [
    "source_path = '/home/altieris/datascience/data/curitibaurbs/raw/pontoslinha/'\n",
    "target_path = '/home/altieris/datascience/data/curitibaurbs/processed/pontoslinha/'\n",
    "\n",
    "etlspark = ETLSpark()\n",
    "raw_data = etlspark.extract(source_path)\n",
    "etlspark.transform(raw_data, target_path)"
   ]
  },
  {
   "cell_type": "markdown",
   "metadata": {},
   "source": [
    "##### **POIS**"
   ]
  },
  {
   "cell_type": "code",
   "execution_count": 4,
   "metadata": {},
   "outputs": [],
   "source": [
    "source_path = '/home/altieris/datascience/data/curitibaurbs/raw/pois/'\n",
    "target_path = '/home/altieris/datascience/data/curitibaurbs/processed/pois/'\n",
    "\n",
    "etlspark = ETLSpark()\n",
    "raw_data = etlspark.extract(source_path)\n",
    "etlspark.transform(raw_data, target_path)"
   ]
  },
  {
   "cell_type": "markdown",
   "metadata": {},
   "source": [
    "##### **SHAPELINHA**"
   ]
  },
  {
   "cell_type": "code",
   "execution_count": 5,
   "metadata": {},
   "outputs": [],
   "source": [
    "source_path = '/home/altieris/datascience/data/curitibaurbs/raw/shapelinha/'\n",
    "target_path = '/home/altieris/datascience/data/curitibaurbs/processed/shapelinha/'\n",
    "\n",
    "etlspark = ETLSpark()\n",
    "raw_data = etlspark.extract(source_path)\n",
    "etlspark.transform(raw_data, target_path)"
   ]
  },
  {
   "cell_type": "markdown",
   "metadata": {},
   "source": [
    "##### **TABELALINHA**"
   ]
  },
  {
   "cell_type": "code",
   "execution_count": 6,
   "metadata": {},
   "outputs": [],
   "source": [
    "source_path = '/home/altieris/datascience/data/curitibaurbs/raw/tabelalinha/'\n",
    "target_path = '/home/altieris/datascience/data/curitibaurbs/processed/tabelalinha/'\n",
    "\n",
    "etlspark = ETLSpark()\n",
    "raw_data = etlspark.extract(source_path)\n",
    "etlspark.transform(raw_data, target_path)"
   ]
  },
  {
   "cell_type": "markdown",
   "metadata": {},
   "source": [
    "##### **TABELAVEICULO**"
   ]
  },
  {
   "cell_type": "code",
   "execution_count": 7,
   "metadata": {},
   "outputs": [],
   "source": [
    "source_path = '/home/altieris/datascience/data/curitibaurbs/raw/tabelaveiculo/'\n",
    "target_path = '/home/altieris/datascience/data/curitibaurbs/processed/tabelaveiculo/'\n",
    "\n",
    "etlspark = ETLSpark()\n",
    "raw_data = etlspark.extract(source_path)\n",
    "etlspark.transform(raw_data, target_path)"
   ]
  },
  {
   "cell_type": "markdown",
   "metadata": {},
   "source": [
    "##### **TRECHOSITINERARIOS**"
   ]
  },
  {
   "cell_type": "code",
   "execution_count": 8,
   "metadata": {},
   "outputs": [],
   "source": [
    "source_path = '/home/altieris/datascience/data/curitibaurbs/raw/trechositinerarios/'\n",
    "target_path = '/home/altieris/datascience/data/curitibaurbs/processed/trechositinerarios/'\n",
    "\n",
    "etlspark = ETLSpark()\n",
    "raw_data = etlspark.extract(source_path)\n",
    "etlspark.transform(raw_data, target_path)"
   ]
  },
  {
   "cell_type": "markdown",
   "metadata": {},
   "source": [
    "##### **VEICULOS**"
   ]
  },
  {
   "cell_type": "code",
   "execution_count": 9,
   "metadata": {},
   "outputs": [
    {
     "name": "stdout",
     "output_type": "stream",
     "text": [
      "vehicles data has been processed!\n"
     ]
    }
   ],
   "source": [
    "source_path = '/home/altieris/datascience/data/curitibaurbs/raw/veiculos/'\n",
    "target_path = '/home/altieris/datascience/data/curitibaurbs/processed/veiculos/'\n",
    "\n",
    "etlspark = ETLSpark()\n",
    "raw_data = etlspark.extract(source_path)\n",
    "etlspark.transform(raw_data, target_path,coalesce=5)\n",
    "print('vehicles data has been processed!')"
   ]
  },
  {
   "cell_type": "code",
   "execution_count": null,
   "metadata": {},
   "outputs": [],
   "source": []
  }
 ],
 "metadata": {
  "kernelspec": {
   "display_name": "Python 3",
   "language": "python",
   "name": "python3"
  },
  "language_info": {
   "codemirror_mode": {
    "name": "ipython",
    "version": 3
   },
   "file_extension": ".py",
   "mimetype": "text/x-python",
   "name": "python",
   "nbconvert_exporter": "python",
   "pygments_lexer": "ipython3",
   "version": "3.7.1"
  }
 },
 "nbformat": 4,
 "nbformat_minor": 2
}
