{
 "cells": [
  {
   "cell_type": "code",
   "execution_count": 14,
   "metadata": {},
   "outputs": [],
   "source": [
    "import findspark\n",
    "\n",
    "findspark.init()\n",
    "\n",
    "import pyspark\n",
    "import random\n",
    "from pyspark.conf import SparkConf\n",
    "from pyspark.context import SparkContext\n",
    "from pyspark.sql import SQLContext\n",
    "\n",
    "from src.database import UrbsNeo4JDatabase"
   ]
  },
  {
   "cell_type": "code",
   "execution_count": 25,
   "metadata": {},
   "outputs": [],
   "source": [
    "conf = SparkConf().setAppName(\"App\")\n",
    "conf = (conf.setMaster('local[*]')\n",
    "        .set('spark.executor.memory', '4G')\n",
    "        .set('spark.driver.memory', '30G')\n",
    "        .set('spark.driver.maxResultSize', '10G'))\n",
    "\n",
    "sc = SparkContext.getOrCreate(conf=conf)\n",
    "sqlContext = SQLContext(sc)\n",
    "\n",
    "processed_path = '/home/altieris/datascience/data/curitibaurbs/processed/'\n",
    "NEO4J_URI = 'bolt://172.17.0.3:7687'"
   ]
  },
  {
   "cell_type": "code",
   "execution_count": 26,
   "metadata": {},
   "outputs": [],
   "source": [
    "conn = UrbsNeo4JDatabase(NEO4J_URI, 'neo4j', 'neo4j2018')\n",
    "conn.delete_all()\n",
    "conn.close()"
   ]
  },
  {
   "cell_type": "code",
   "execution_count": 27,
   "metadata": {},
   "outputs": [],
   "source": [
    "def load_trechos_itinerarios():\n",
    "    trechosItinerarios = sqlContext.read.json(processed_path + 'trechositinerarios/')\n",
    "    trechosItinerarios.registerTempTable(\"trechos_itinerarios\")\n",
    "    return trechosItinerarios"
   ]
  },
  {
   "cell_type": "code",
   "execution_count": 19,
   "metadata": {},
   "outputs": [],
   "source": [
    "linhas = sqlContext.read.json(processed_path+'linhas/')\n",
    "linhas.registerTempTable(\"linhas\")\n",
    "\n",
    "pontosLinha = sqlContext.read.json(processed_path+'pontoslinha/')\n",
    "pontosLinha.registerTempTable(\"pontos_linha\")\n",
    "\n",
    "tabelaVeiculo = sqlContext.read.json(processed_path+'tabelaveiculo/')\n",
    "tabelaVeiculo.registerTempTable(\"tabela_veiculo\")\n",
    "\n",
    "tabelaLinha = sqlContext.read.json(processed_path+'tabelalinha/')\n",
    "tabelaLinha.registerTempTable(\"tabela_linha\")\n",
    "\n",
    "position_events = sqlContext.read.json(processed_path+'veiculos/')\n",
    "position_events.registerTempTable(\"veiculos\")\n"
   ]
  },
  {
   "cell_type": "code",
   "execution_count": 28,
   "metadata": {},
   "outputs": [],
   "source": [
    "##### EMPRESAS ONIBUS\n",
    "\n",
    "def create_empresas_onibus(trechosItinerarios):\n",
    "    conn = UrbsNeo4JDatabase(NEO4J_URI, 'neo4j', 'neo4j2018')\n",
    "    empresasOnibus = trechosItinerarios.select(\"COD_EMPRESA\", \"NOME_EMPRESA\").distinct()\n",
    "\n",
    "    empresas_df = empresasOnibus.toPandas()\n",
    "\n",
    "    [conn.create_bus_company(row['COD_EMPRESA'], row['NOME_EMPRESA']) for index, row in empresas_df.iterrows()]\n",
    "    conn.close()\n"
   ]
  },
  {
   "cell_type": "code",
   "execution_count": 29,
   "metadata": {},
   "outputs": [],
   "source": [
    "#### CATEGORIAS ONIBUS\n",
    "def create_categorias_onibus(trechosItinerarios):\n",
    "    conn = UrbsNeo4JDatabase(NEO4J_URI, 'neo4j', 'neo4j2018')\n",
    "    categoriasOnibus = trechosItinerarios.select('COD_CATEGORIA', 'NOME_CATEGORIA').distinct()\n",
    "\n",
    "    categorias_df = categoriasOnibus.toPandas()\n",
    "    [conn.create_bus_category(row['COD_CATEGORIA'], row['NOME_CATEGORIA']) for index, row in categorias_df.iterrows()]\n",
    "    conn.close()\n"
   ]
  },
  {
   "cell_type": "code",
   "execution_count": 30,
   "metadata": {},
   "outputs": [],
   "source": [
    "def extract_address(x):\n",
    "    return x.split('-')[0]\n",
    "\n",
    "\n",
    "def extract_neighborhood(x):\n",
    "    l = x.split('-')\n",
    "    if len(l) > 1:\n",
    "        return l[1]\n",
    "    return l[0]\n",
    "\n",
    "\n",
    "def create_bus_stops():\n",
    "    conn = UrbsNeo4JDatabase(NEO4J_URI, 'neo4j', 'neo4j2018')\n",
    "    pontos = sqlContext.sql(\"select distinct nome,num,tipo,lat,lon from pontos_linha where sourcedate = '2019-03-14' \")\n",
    "\n",
    "    pontos_df = pontos.toPandas()\n",
    "\n",
    "    pontos_df['address'] = pontos_df['nome'].map(lambda x: extract_address(x))\n",
    "    pontos_df['neighborhood'] = pontos_df['nome'].map(lambda x: extract_neighborhood(x))\n",
    "\n",
    "    [conn.create_bus_stop(row['nome'], row['num'], row['tipo'], row['lat'], row['lon'], row['address'],\n",
    "                          row['neighborhood']) for index, row in pontos_df.iterrows()]\n",
    "    conn.close()"
   ]
  },
  {
   "cell_type": "code",
   "execution_count": 31,
   "metadata": {},
   "outputs": [],
   "source": [
    "def create_routes():\n",
    "    conn = UrbsNeo4JDatabase(NEO4J_URI, 'neo4j', 'neo4j2018')\n",
    "\n",
    "    query_view_rota_sequenciada = \"CREATE OR REPLACE TEMPORARY VIEW rota_sequenciada AS  \" \\\n",
    "                                  \"select \tpseq.cod_linha,pseq.sentido_linha,pseq.seq_inicio,pseq.seq_fim,pseq.ponto_inicio,pseq.nome_ponto_inicio \" \\\n",
    "                                  \",pseq.ponto_final,pseq.nome_ponto_final,li.CATEGORIA_SERVICO as categoria_servico,li.NOME as nome_linha,li.NOME_COR as nome_cor,li.SOMENTE_CARTAO as somente_cartao \" \\\n",
    "                                  \",pseq.sourcedate \" \\\n",
    "                                  \"from (select \" \\\n",
    "                                  \"p1.COD as cod_linha \" \\\n",
    "                                  \",p1.SENTIDO  as sentido_linha \" \\\n",
    "                                  \",p1.SEQ      as seq_inicio \" \\\n",
    "                                  \",p2.SEQ      as seq_fim \" \\\n",
    "                                  \",p1.NUM      as ponto_inicio \" \\\n",
    "                                  \",p1.NOME     as nome_ponto_inicio \" \\\n",
    "                                  \",p2.NUM      as ponto_final \" \\\n",
    "                                  \",p2.NOME     as nome_ponto_final \" \\\n",
    "                                  \",p1.sourcedate \" \\\n",
    "                                  \"from pontos_linha P1 \" \\\n",
    "                                  \"inner join pontos_linha p2 on (p1.SEQ+1 = p2.SEQ and p1.COD = p2.COD and p1.SENTIDO = p2.SENTIDO and p1.sourcedate = p2.sourcedate) \" \\\n",
    "                                  \") pseq \" \\\n",
    "                                  \"inner join linhas       li on (pseq.cod_linha = li.COD and pseq.sourcedate = li.sourcedate) \" \\\n",
    "                                  \"order by pseq.cod_linha,pseq.sentido_linha,pseq.seq_inicio,pseq.seq_fim \"\n",
    "\n",
    "    sqlContext.sql(query_view_rota_sequenciada)\n",
    "\n",
    "    query_rota_sequenciada = \"select cod_linha,sentido_linha,ponto_inicio,nome_ponto_inicio,ponto_final,nome_ponto_final,categoria_servico,nome_linha,nome_cor,somente_cartao \" \\\n",
    "                             \"from rota_sequenciada where sourcedate ='2019-03-14' and ponto_inicio != ponto_final\"\n",
    "\n",
    "    rota_sequenciada = sqlContext.sql(query_rota_sequenciada)\n",
    "    rota_sequenciada_df = rota_sequenciada.toPandas()\n",
    "\n",
    "    [conn.create_bus_lines(row['ponto_inicio'], row['ponto_final'], row['cod_linha'], row['sentido_linha'], row['categoria_servico'], row['nome_linha'], row['nome_cor'],\n",
    "                           row['somente_cartao']) for index, row in rota_sequenciada_df.iterrows()]\n",
    "\n",
    "    conn.close()"
   ]
  },
  {
   "cell_type": "code",
   "execution_count": 32,
   "metadata": {},
   "outputs": [],
   "source": [
    "trechosItinerarios = load_trechos_itinerarios()\n",
    "create_empresas_onibus(trechosItinerarios)\n",
    "create_categorias_onibus(trechosItinerarios)\n",
    "create_bus_stops()\n",
    "create_routes()"
   ]
  },
  {
   "cell_type": "markdown",
   "metadata": {},
   "source": [
    "##### **LOAD POSITION EVENTS**"
   ]
  },
  {
   "cell_type": "code",
   "execution_count": 13,
   "metadata": {},
   "outputs": [
    {
     "data": {
      "text/plain": [
       "veic    159\n",
       "dtype: int64"
      ]
     },
     "execution_count": 13,
     "metadata": {},
     "output_type": "execute_result"
    }
   ],
   "source": [
    "def create_bus():\n",
    "    conn = UrbsNeo4JDatabase(NEO4J_URI, 'neo4j', 'neo4j2018')\n",
    "    \n",
    "    veiculos = \"select distinct veic.veic from veiculos veic \" \\\n",
    "        \"where TO_DATE(CAST(UNIX_TIMESTAMP(veic.dthr, 'dd/MM/yyyy') AS TIMESTAMP)) = '2019-03-14'\"\n",
    "\n",
    "    veiculos_df = veiculos.toPandas()\n",
    "\n",
    "    [conn.create_bus_stop(row['nome'], row['num'], row['tipo'], row['lat'], row['lon'], row['address'],\n",
    "                          row['neighborhood']) for index, row in pontos_df.iterrows()]\n",
    "    conn.close()"
   ]
  },
  {
   "cell_type": "code",
   "execution_count": null,
   "metadata": {},
   "outputs": [],
   "source": []
  },
  {
   "cell_type": "code",
   "execution_count": 6,
   "metadata": {},
   "outputs": [],
   "source": [
    "query = \"select  distinct veic.cod_linha,li.nome, veic.veic,veic.lat,veic.lon,cast(UNIX_TIMESTAMP(veic.dthr, 'dd/MM/yyyy hh:mm:ss') as timestamp) as dt_event \" \\\n",
    "\"from veiculos veic inner join linhas li on (veic.cod_linha = li.cod) \" \\\n",
    "\"where TO_DATE(CAST(UNIX_TIMESTAMP(veic.dthr, 'dd/MM/yyyy') AS TIMESTAMP)) = '2019-03-14' and veic.cod_linha ='924' and veic.veic = 'MA013' order by dt_event desc limit 10\"\n",
    "\n",
    "result = sqlContext.sql(query).toPandas()\n",
    "#date_format(current_date(), \"y-MM-dd'T'hh:mm:ss.SSS'Z'\")\n"
   ]
  },
  {
   "cell_type": "code",
   "execution_count": 7,
   "metadata": {},
   "outputs": [
    {
     "data": {
      "text/html": [
       "<div>\n",
       "<style scoped>\n",
       "    .dataframe tbody tr th:only-of-type {\n",
       "        vertical-align: middle;\n",
       "    }\n",
       "\n",
       "    .dataframe tbody tr th {\n",
       "        vertical-align: top;\n",
       "    }\n",
       "\n",
       "    .dataframe thead th {\n",
       "        text-align: right;\n",
       "    }\n",
       "</style>\n",
       "<table border=\"1\" class=\"dataframe\">\n",
       "  <thead>\n",
       "    <tr style=\"text-align: right;\">\n",
       "      <th></th>\n",
       "      <th>cod_linha</th>\n",
       "      <th>nome</th>\n",
       "      <th>veic</th>\n",
       "      <th>lat</th>\n",
       "      <th>lon</th>\n",
       "      <th>dt_event</th>\n",
       "    </tr>\n",
       "  </thead>\n",
       "  <tbody>\n",
       "    <tr>\n",
       "      <th>0</th>\n",
       "      <td>924</td>\n",
       "      <td>STA. FELICIDADE / STA. CANDIDA</td>\n",
       "      <td>MA013</td>\n",
       "      <td>-25.37369</td>\n",
       "      <td>-49.2256</td>\n",
       "      <td>2019-03-14 11:59:51</td>\n",
       "    </tr>\n",
       "    <tr>\n",
       "      <th>1</th>\n",
       "      <td>924</td>\n",
       "      <td>STA. FELICIDADE / STA. CANDIDA</td>\n",
       "      <td>MA013</td>\n",
       "      <td>-25.373771</td>\n",
       "      <td>-49.225283</td>\n",
       "      <td>2019-03-14 11:59:47</td>\n",
       "    </tr>\n",
       "    <tr>\n",
       "      <th>2</th>\n",
       "      <td>924</td>\n",
       "      <td>STA. FELICIDADE / STA. CANDIDA</td>\n",
       "      <td>MA013</td>\n",
       "      <td>-25.373803</td>\n",
       "      <td>-49.225068</td>\n",
       "      <td>2019-03-14 11:59:43</td>\n",
       "    </tr>\n",
       "    <tr>\n",
       "      <th>3</th>\n",
       "      <td>924</td>\n",
       "      <td>STA. FELICIDADE / STA. CANDIDA</td>\n",
       "      <td>MA013</td>\n",
       "      <td>-25.373815</td>\n",
       "      <td>-49.22496</td>\n",
       "      <td>2019-03-14 11:59:17</td>\n",
       "    </tr>\n",
       "    <tr>\n",
       "      <th>4</th>\n",
       "      <td>924</td>\n",
       "      <td>STA. FELICIDADE / STA. CANDIDA</td>\n",
       "      <td>MA013</td>\n",
       "      <td>-25.37399</td>\n",
       "      <td>-49.22439</td>\n",
       "      <td>2019-03-14 11:59:09</td>\n",
       "    </tr>\n",
       "  </tbody>\n",
       "</table>\n",
       "</div>"
      ],
      "text/plain": [
       "  cod_linha                            nome   veic         lat         lon  \\\n",
       "0       924  STA. FELICIDADE / STA. CANDIDA  MA013   -25.37369    -49.2256   \n",
       "1       924  STA. FELICIDADE / STA. CANDIDA  MA013  -25.373771  -49.225283   \n",
       "2       924  STA. FELICIDADE / STA. CANDIDA  MA013  -25.373803  -49.225068   \n",
       "3       924  STA. FELICIDADE / STA. CANDIDA  MA013  -25.373815   -49.22496   \n",
       "4       924  STA. FELICIDADE / STA. CANDIDA  MA013   -25.37399   -49.22439   \n",
       "\n",
       "             dt_event  \n",
       "0 2019-03-14 11:59:51  \n",
       "1 2019-03-14 11:59:47  \n",
       "2 2019-03-14 11:59:43  \n",
       "3 2019-03-14 11:59:17  \n",
       "4 2019-03-14 11:59:09  "
      ]
     },
     "execution_count": 7,
     "metadata": {},
     "output_type": "execute_result"
    }
   ],
   "source": [
    "result.head()"
   ]
  },
  {
   "cell_type": "code",
   "execution_count": null,
   "metadata": {},
   "outputs": [],
   "source": []
  }
 ],
 "metadata": {
  "kernelspec": {
   "display_name": "Python 3",
   "language": "python",
   "name": "python3"
  },
  "language_info": {
   "codemirror_mode": {
    "name": "ipython",
    "version": 3
   },
   "file_extension": ".py",
   "mimetype": "text/x-python",
   "name": "python",
   "nbconvert_exporter": "python",
   "pygments_lexer": "ipython3",
   "version": "3.6.8"
  }
 },
 "nbformat": 4,
 "nbformat_minor": 2
}
